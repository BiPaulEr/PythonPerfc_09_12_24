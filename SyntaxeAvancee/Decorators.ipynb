{
 "cells": [
  {
   "cell_type": "code",
   "execution_count": 3,
   "id": "6892b38d-1930-4b15-93bf-0492d493f775",
   "metadata": {},
   "outputs": [
    {
     "name": "stdout",
     "output_type": "stream",
     "text": [
      "Je suis la fonction simple\n"
     ]
    }
   ],
   "source": [
    "def simple_decorator(function):\n",
    "    def wrapper():\n",
    "        print(\"Instruction en plus avant\")\n",
    "        function()\n",
    "        print(\"Instruction en plus après\")\n",
    "    return wrapper\n",
    "\n",
    "def function_simple():\n",
    "    print(\"Je suis la fonction simple\")\n",
    "\n",
    "function_simple()\n",
    "fonction_decore = simple_decorator(function_simple)"
   ]
  },
  {
   "cell_type": "code",
   "execution_count": 5,
   "id": "b9f9e87d-4aed-41c0-bd71-6ea44d11448f",
   "metadata": {},
   "outputs": [
    {
     "name": "stdout",
     "output_type": "stream",
     "text": [
      "Instruction en plus avant\n",
      "Je suis la fonction simple\n",
      "Instruction en plus après\n"
     ]
    }
   ],
   "source": [
    "fonction_decore()"
   ]
  },
  {
   "cell_type": "code",
   "execution_count": 8,
   "id": "f24ca948-5939-4264-8be8-14e85385537c",
   "metadata": {},
   "outputs": [],
   "source": [
    "function_simple = simple_decorator(function_simple)"
   ]
  },
  {
   "cell_type": "code",
   "execution_count": 9,
   "id": "536d71b8-e1c4-4a41-85d7-5d87f1e01832",
   "metadata": {},
   "outputs": [
    {
     "name": "stdout",
     "output_type": "stream",
     "text": [
      "Instruction en plus avant\n",
      "Je suis la fonction simple\n",
      "Instruction en plus après\n"
     ]
    }
   ],
   "source": [
    "function_simple()"
   ]
  },
  {
   "cell_type": "code",
   "execution_count": 11,
   "id": "aa52e371-4472-4810-bbba-3063faf7683b",
   "metadata": {},
   "outputs": [
    {
     "name": "stdout",
     "output_type": "stream",
     "text": [
      "Instruction en plus avant\n",
      "Je suis la fonction simple\n",
      "Instruction en plus après\n"
     ]
    }
   ],
   "source": [
    "def simple_decorator(function):\n",
    "    def wrapper():\n",
    "        print(\"Instruction en plus avant\")\n",
    "        function()\n",
    "        print(\"Instruction en plus après\")\n",
    "    return wrapper\n",
    "#function_simple = simple_decorator(function_simple)\n",
    "@simple_decorator\n",
    "def function_simple():\n",
    "    print(\"Je suis la fonction simple\")\n",
    "\n",
    "function_simple()\n"
   ]
  },
  {
   "cell_type": "code",
   "execution_count": 16,
   "id": "7da1b9df-d340-495b-87be-bc8c94430872",
   "metadata": {},
   "outputs": [
    {
     "ename": "TypeError",
     "evalue": "simple_decorator.<locals>.wrapper() takes 0 positional arguments but 1 was given",
     "output_type": "error",
     "traceback": [
      "\u001b[1;31m---------------------------------------------------------------------------\u001b[0m",
      "\u001b[1;31mTypeError\u001b[0m                                 Traceback (most recent call last)",
      "Cell \u001b[1;32mIn[16], line 13\u001b[0m\n\u001b[0;32m      9\u001b[0m \u001b[38;5;129m@simple_decorator\u001b[39m\n\u001b[0;32m     10\u001b[0m \u001b[38;5;28;01mdef\u001b[39;00m \u001b[38;5;21mfonction_simple_arg\u001b[39m(nom):\n\u001b[0;32m     11\u001b[0m     \u001b[38;5;28mprint\u001b[39m(\u001b[38;5;124mf\u001b[39m\u001b[38;5;124m\"\u001b[39m\u001b[38;5;124mBonjour \u001b[39m\u001b[38;5;132;01m{\u001b[39;00mnom\u001b[38;5;132;01m}\u001b[39;00m\u001b[38;5;124m\"\u001b[39m)\n\u001b[1;32m---> 13\u001b[0m \u001b[43mfonction_simple_arg\u001b[49m\u001b[43m(\u001b[49m\u001b[38;5;124;43m\"\u001b[39;49m\u001b[38;5;124;43mMARTIN\u001b[39;49m\u001b[38;5;124;43m\"\u001b[39;49m\u001b[43m)\u001b[49m\n",
      "\u001b[1;31mTypeError\u001b[0m: simple_decorator.<locals>.wrapper() takes 0 positional arguments but 1 was given"
     ]
    }
   ],
   "source": [
    "#problee decorator argument\n",
    "def simple_decorator(function):\n",
    "    def wrapper():\n",
    "        print(\"Instruction en plus avant\")\n",
    "        function()\n",
    "        print(\"Instruction en plus après\")\n",
    "    return wrapper\n",
    "\n",
    "@simple_decorator\n",
    "def fonction_simple_arg(nom):\n",
    "    print(f\"Bonjour {nom}\")\n",
    "    \n",
    "fonction_simple_arg(\"MARTIN\")"
   ]
  },
  {
   "cell_type": "code",
   "execution_count": 29,
   "id": "57f6ea09-feac-44ba-80b5-0308724ca38e",
   "metadata": {},
   "outputs": [
    {
     "name": "stdout",
     "output_type": "stream",
     "text": [
      "2\n",
      "(3, 4, 5, 76)\n",
      "End\n"
     ]
    }
   ],
   "source": [
    "# démonstration *args\n",
    "def function(a, *args):\n",
    "    print(a)\n",
    "    print(args)\n",
    "    print(\"End\")\n",
    "\n",
    "function(2, 3, 4, 5, 76)"
   ]
  },
  {
   "cell_type": "code",
   "execution_count": 28,
   "id": "af637dea-af6a-4bc7-9595-84db451c3c8c",
   "metadata": {},
   "outputs": [
    {
     "name": "stdout",
     "output_type": "stream",
     "text": [
      "Instruction en plus avant\n",
      "Bonjour MARTIN\n",
      "Instruction en plus après\n",
      "Instruction en plus avant\n",
      "Bonjour MARTIN PAUL\n",
      "Instruction en plus après\n"
     ]
    }
   ],
   "source": [
    "#comment gere probleme argument\n",
    "def simple_decorator(function):\n",
    "    def wrapper(*args):\n",
    "        print(\"Instruction en plus avant\")\n",
    "        function(*args)\n",
    "        print(\"Instruction en plus après\")\n",
    "    return wrapper\n",
    "\n",
    "@simple_decorator\n",
    "def fonction_simple_arg(nom):\n",
    "    print(f\"Bonjour {nom}\")\n",
    "    \n",
    "@simple_decorator\n",
    "def fonction_simple_args(nom, prenom):\n",
    "    print(f\"Bonjour {nom} {prenom}\")   \n",
    "    \n",
    "fonction_simple_arg(\"MARTIN\")\n",
    "fonction_simple_args(\"MARTIN\", \"PAUL\")"
   ]
  },
  {
   "cell_type": "code",
   "execution_count": 43,
   "id": "cdccf437-a3f4-436d-8516-320f3b00efd6",
   "metadata": {},
   "outputs": [
    {
     "name": "stdout",
     "output_type": "stream",
     "text": [
      "{'g': 90, 'i': 90}\n",
      "End\n"
     ]
    }
   ],
   "source": [
    "# demonstration nombre arguments nominatif\n",
    "def function( a, b, c = 9, d = 70, **kwargs):\n",
    "    print(kwargs)\n",
    "    print(\"End\")\n",
    "\n",
    "function(2, 3, c = 100, g = 90, i = 90)"
   ]
  },
  {
   "cell_type": "code",
   "execution_count": 49,
   "id": "480b3faa-762c-43fa-9d1f-951e8bd71900",
   "metadata": {},
   "outputs": [
    {
     "name": "stdout",
     "output_type": "stream",
     "text": [
      "Instruction en plus avant\n",
      "Bonjour MARTIN\n",
      "Instruction en plus après\n",
      "Instruction en plus avant\n",
      "Bonjour MARTIN PAul\n",
      "Instruction en plus après\n"
     ]
    }
   ],
   "source": [
    "#comment gere probleme argument\n",
    "def simple_decorator_2(function):\n",
    "    def wrapper(*args, **kwargs):\n",
    "        print(\"Instruction en plus avant\")\n",
    "        function(*args, **kwargs)\n",
    "        print(\"Instruction en plus après\")\n",
    "    return wrapper\n",
    "\n",
    "@simple_decorator_2\n",
    "def fonction_simple_arg(nom):\n",
    "    print(f\"Bonjour {nom}\")\n",
    "    \n",
    "@simple_decorator_2\n",
    "def fonction_simple_args(nom, prenom = \"OK\"):\n",
    "    print(f\"Bonjour {nom} {prenom}\")   \n",
    "    \n",
    "fonction_simple_arg(\"MARTIN\")\n",
    "fonction_simple_args(\"MARTIN\", prenom = \"PAul\")"
   ]
  },
  {
   "cell_type": "code",
   "execution_count": 54,
   "id": "160176bd-ada8-4d0d-9f6b-74348bc75232",
   "metadata": {},
   "outputs": [
    {
     "name": "stdout",
     "output_type": "stream",
     "text": [
      "test\n",
      "test\n",
      "test\n",
      "test\n",
      "test\n",
      "test\n",
      "test\n",
      "test\n",
      "test\n",
      "test\n"
     ]
    }
   ],
   "source": [
    "#Example \n",
    "def repeat_decorator_avec_arg(nombre_repetetition):\n",
    "    def repeat_decorator(function):\n",
    "        def wrapper(*args):\n",
    "            for i in range(0, nombre_repetetition):\n",
    "                function()\n",
    "        return wrapper\n",
    "    return repeat_decorator\n",
    "\n",
    "@repeat_decorator_avec_arg(10)\n",
    "def test():\n",
    "    print(\"test\")\n",
    "test()"
   ]
  },
  {
   "cell_type": "code",
   "execution_count": null,
   "id": "b2eacf22-675e-4cc3-a7c7-906c4c754039",
   "metadata": {},
   "outputs": [],
   "source": []
  }
 ],
 "metadata": {
  "kernelspec": {
   "display_name": "Python 3 (ipykernel)",
   "language": "python",
   "name": "python3"
  },
  "language_info": {
   "codemirror_mode": {
    "name": "ipython",
    "version": 3
   },
   "file_extension": ".py",
   "mimetype": "text/x-python",
   "name": "python",
   "nbconvert_exporter": "python",
   "pygments_lexer": "ipython3",
   "version": "3.12.7"
  }
 },
 "nbformat": 4,
 "nbformat_minor": 5
}
