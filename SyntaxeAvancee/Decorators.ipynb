{
 "cells": [
  {
   "cell_type": "code",
   "execution_count": 3,
   "id": "6892b38d-1930-4b15-93bf-0492d493f775",
   "metadata": {},
   "outputs": [
    {
     "name": "stdout",
     "output_type": "stream",
     "text": [
      "Je suis la fonction simple\n"
     ]
    }
   ],
   "source": [
    "def simple_decorator(function):\n",
    "    def wrapper():\n",
    "        print(\"Instruction en plus avant\")\n",
    "        function()\n",
    "        print(\"Instruction en plus après\")\n",
    "    return wrapper\n",
    "\n",
    "def function_simple():\n",
    "    print(\"Je suis la fonction simple\")\n",
    "\n",
    "function_simple()\n",
    "fonction_decore = simple_decorator(function_simple)"
   ]
  },
  {
   "cell_type": "code",
   "execution_count": 5,
   "id": "b9f9e87d-4aed-41c0-bd71-6ea44d11448f",
   "metadata": {},
   "outputs": [
    {
     "name": "stdout",
     "output_type": "stream",
     "text": [
      "Instruction en plus avant\n",
      "Je suis la fonction simple\n",
      "Instruction en plus après\n"
     ]
    }
   ],
   "source": [
    "fonction_decore()"
   ]
  },
  {
   "cell_type": "code",
   "execution_count": 8,
   "id": "f24ca948-5939-4264-8be8-14e85385537c",
   "metadata": {},
   "outputs": [],
   "source": [
    "function_simple = simple_decorator(function_simple)"
   ]
  },
  {
   "cell_type": "code",
   "execution_count": 9,
   "id": "536d71b8-e1c4-4a41-85d7-5d87f1e01832",
   "metadata": {},
   "outputs": [
    {
     "name": "stdout",
     "output_type": "stream",
     "text": [
      "Instruction en plus avant\n",
      "Je suis la fonction simple\n",
      "Instruction en plus après\n"
     ]
    }
   ],
   "source": [
    "function_simple()"
   ]
  },
  {
   "cell_type": "code",
   "execution_count": 11,
   "id": "aa52e371-4472-4810-bbba-3063faf7683b",
   "metadata": {},
   "outputs": [
    {
     "name": "stdout",
     "output_type": "stream",
     "text": [
      "Instruction en plus avant\n",
      "Je suis la fonction simple\n",
      "Instruction en plus après\n"
     ]
    }
   ],
   "source": [
    "def simple_decorator(function):\n",
    "    def wrapper():\n",
    "        print(\"Instruction en plus avant\")\n",
    "        function()\n",
    "        print(\"Instruction en plus après\")\n",
    "    return wrapper\n",
    "#function_simple = simple_decorator(function_simple)\n",
    "@simple_decorator\n",
    "def function_simple():\n",
    "    print(\"Je suis la fonction simple\")\n",
    "\n",
    "function_simple()\n"
   ]
  },
  {
   "cell_type": "code",
   "execution_count": 16,
   "id": "7da1b9df-d340-495b-87be-bc8c94430872",
   "metadata": {},
   "outputs": [
    {
     "ename": "TypeError",
     "evalue": "simple_decorator.<locals>.wrapper() takes 0 positional arguments but 1 was given",
     "output_type": "error",
     "traceback": [
      "\u001b[1;31m---------------------------------------------------------------------------\u001b[0m",
      "\u001b[1;31mTypeError\u001b[0m                                 Traceback (most recent call last)",
      "Cell \u001b[1;32mIn[16], line 13\u001b[0m\n\u001b[0;32m      9\u001b[0m \u001b[38;5;129m@simple_decorator\u001b[39m\n\u001b[0;32m     10\u001b[0m \u001b[38;5;28;01mdef\u001b[39;00m \u001b[38;5;21mfonction_simple_arg\u001b[39m(nom):\n\u001b[0;32m     11\u001b[0m     \u001b[38;5;28mprint\u001b[39m(\u001b[38;5;124mf\u001b[39m\u001b[38;5;124m\"\u001b[39m\u001b[38;5;124mBonjour \u001b[39m\u001b[38;5;132;01m{\u001b[39;00mnom\u001b[38;5;132;01m}\u001b[39;00m\u001b[38;5;124m\"\u001b[39m)\n\u001b[1;32m---> 13\u001b[0m \u001b[43mfonction_simple_arg\u001b[49m\u001b[43m(\u001b[49m\u001b[38;5;124;43m\"\u001b[39;49m\u001b[38;5;124;43mMARTIN\u001b[39;49m\u001b[38;5;124;43m\"\u001b[39;49m\u001b[43m)\u001b[49m\n",
      "\u001b[1;31mTypeError\u001b[0m: simple_decorator.<locals>.wrapper() takes 0 positional arguments but 1 was given"
     ]
    }
   ],
   "source": [
    "#problee decorator argument\n",
    "def simple_decorator(function):\n",
    "    def wrapper():\n",
    "        print(\"Instruction en plus avant\")\n",
    "        function()\n",
    "        print(\"Instruction en plus après\")\n",
    "    return wrapper\n",
    "\n",
    "@simple_decorator\n",
    "def fonction_simple_arg(nom):\n",
    "    print(f\"Bonjour {nom}\")\n",
    "    \n",
    "fonction_simple_arg(\"MARTIN\")"
   ]
  },
  {
   "cell_type": "code",
   "execution_count": 29,
   "id": "57f6ea09-feac-44ba-80b5-0308724ca38e",
   "metadata": {},
   "outputs": [
    {
     "name": "stdout",
     "output_type": "stream",
     "text": [
      "2\n",
      "(3, 4, 5, 76)\n",
      "End\n"
     ]
    }
   ],
   "source": [
    "# démonstration *args\n",
    "def function(a, *args):\n",
    "    print(a)\n",
    "    print(args)\n",
    "    print(\"End\")\n",
    "\n",
    "function(2, 3, 4, 5, 76)"
   ]
  },
  {
   "cell_type": "code",
   "execution_count": 28,
   "id": "af637dea-af6a-4bc7-9595-84db451c3c8c",
   "metadata": {},
   "outputs": [
    {
     "name": "stdout",
     "output_type": "stream",
     "text": [
      "Instruction en plus avant\n",
      "Bonjour MARTIN\n",
      "Instruction en plus après\n",
      "Instruction en plus avant\n",
      "Bonjour MARTIN PAUL\n",
      "Instruction en plus après\n"
     ]
    }
   ],
   "source": [
    "#comment gere probleme argument\n",
    "def simple_decorator(function):\n",
    "    def wrapper(*args):\n",
    "        print(\"Instruction en plus avant\")\n",
    "        function(*args)\n",
    "        print(\"Instruction en plus après\")\n",
    "    return wrapper\n",
    "\n",
    "@simple_decorator\n",
    "def fonction_simple_arg(nom):\n",
    "    print(f\"Bonjour {nom}\")\n",
    "    \n",
    "@simple_decorator\n",
    "def fonction_simple_args(nom, prenom):\n",
    "    print(f\"Bonjour {nom} {prenom}\")   \n",
    "    \n",
    "fonction_simple_arg(\"MARTIN\")\n",
    "fonction_simple_args(\"MARTIN\", \"PAUL\")"
   ]
  },
  {
   "cell_type": "code",
   "execution_count": 43,
   "id": "cdccf437-a3f4-436d-8516-320f3b00efd6",
   "metadata": {},
   "outputs": [
    {
     "name": "stdout",
     "output_type": "stream",
     "text": [
      "{'g': 90, 'i': 90}\n",
      "End\n"
     ]
    }
   ],
   "source": [
    "# demonstration nombre arguments nominatif\n",
    "def function( a, b, c = 9, d = 70, **kwargs):\n",
    "    print(kwargs)\n",
    "    print(\"End\")\n",
    "\n",
    "function(2, 3, c = 100, g = 90, i = 90)"
   ]
  },
  {
   "cell_type": "code",
   "execution_count": 49,
   "id": "480b3faa-762c-43fa-9d1f-951e8bd71900",
   "metadata": {},
   "outputs": [
    {
     "name": "stdout",
     "output_type": "stream",
     "text": [
      "Instruction en plus avant\n",
      "Bonjour MARTIN\n",
      "Instruction en plus après\n",
      "Instruction en plus avant\n",
      "Bonjour MARTIN PAul\n",
      "Instruction en plus après\n"
     ]
    }
   ],
   "source": [
    "#comment gere probleme argument\n",
    "def simple_decorator_2(function):\n",
    "    def wrapper(*args, **kwargs):\n",
    "        print(\"Instruction en plus avant\")\n",
    "        function(*args, **kwargs)\n",
    "        print(\"Instruction en plus après\")\n",
    "    return wrapper\n",
    "\n",
    "@simple_decorator_2\n",
    "def fonction_simple_arg(nom):\n",
    "    print(f\"Bonjour {nom}\")\n",
    "    \n",
    "@simple_decorator_2\n",
    "def fonction_simple_args(nom, prenom = \"OK\"):\n",
    "    print(f\"Bonjour {nom} {prenom}\")   \n",
    "    \n",
    "fonction_simple_arg(\"MARTIN\")\n",
    "fonction_simple_args(\"MARTIN\", prenom = \"PAul\")"
   ]
  },
  {
   "cell_type": "code",
   "execution_count": 54,
   "id": "160176bd-ada8-4d0d-9f6b-74348bc75232",
   "metadata": {},
   "outputs": [
    {
     "name": "stdout",
     "output_type": "stream",
     "text": [
      "test\n",
      "test\n",
      "test\n",
      "test\n",
      "test\n",
      "test\n",
      "test\n",
      "test\n",
      "test\n",
      "test\n"
     ]
    }
   ],
   "source": [
    "#Example \n",
    "def repeat_decorator_avec_arg(nombre_repetetition):\n",
    "    def repeat_decorator(function):\n",
    "        def wrapper(*args):\n",
    "            for i in range(0, nombre_repetetition):\n",
    "                function()\n",
    "        return wrapper\n",
    "    return repeat_decorator\n",
    "\n",
    "@repeat_decorator_avec_arg(10)\n",
    "def test():\n",
    "    print(\"test\")\n",
    "test()"
   ]
  },
  {
   "cell_type": "code",
   "execution_count": 59,
   "id": "b2eacf22-675e-4cc3-a7c7-906c4c754039",
   "metadata": {},
   "outputs": [
    {
     "name": "stdout",
     "output_type": "stream",
     "text": [
      " fetch_data Temps d'execution 2.0013327598571777\n",
      " fetch_data_douze Temps d'execution 3.000823736190796\n"
     ]
    }
   ],
   "source": [
    "import time\n",
    "def benchmark(function):\n",
    "    def wrapper(*args, **kwargs):\n",
    "        debut = time.time()\n",
    "        function(*args, **kwargs)\n",
    "        print(f\" {function.__name__} Temps d'execution {time.time() - debut}\")\n",
    "    return wrapper\n",
    "\n",
    "@benchmark\n",
    "def fetch_data():\n",
    "    time.sleep(2)  # Simule une opération prenant du temps\n",
    "    return \"Data\"\n",
    "    \n",
    "@benchmark\n",
    "def fetch_data_douze():\n",
    "    time.sleep(3)  # Simule une opération prenant du temps\n",
    "    return \"Data\"\n",
    "    \n",
    "fetch_data()\n",
    "fetch_data_douze()"
   ]
  },
  {
   "cell_type": "code",
   "execution_count": 61,
   "id": "8d0f71c1-d323-4d1b-99a8-c6231bddc815",
   "metadata": {},
   "outputs": [
    {
     "name": "stdout",
     "output_type": "stream",
     "text": [
      "Au secours : fetch_data Temps d'execution 2.000424385070801\n",
      "Jai faim : fetch_data_douze Temps d'execution 3.000688314437866\n"
     ]
    }
   ],
   "source": [
    "import time\n",
    "def benchmark_msg(msg):\n",
    "    def benchmark(function):\n",
    "        def wrapper(*args, **kwargs):\n",
    "            debut = time.time()\n",
    "            function(*args, **kwargs)\n",
    "            print(f\"{msg} : {function.__name__} Temps d'execution {time.time() - debut}\")\n",
    "        return wrapper\n",
    "    return benchmark\n",
    "\n",
    "@benchmark_msg(\"Au secours\")\n",
    "def fetch_data():\n",
    "    time.sleep(2)  # Simule une opération prenant du temps\n",
    "    return \"Data\"\n",
    "    \n",
    "@benchmark_msg(\"Jai faim\")\n",
    "def fetch_data_douze():\n",
    "    time.sleep(3)  # Simule une opération prenant du temps\n",
    "    return \"Data\"\n",
    "    \n",
    "fetch_data()\n",
    "fetch_data_douze()"
   ]
  },
  {
   "cell_type": "code",
   "execution_count": 69,
   "id": "a7249487-71cc-4774-98eb-17b81936155d",
   "metadata": {},
   "outputs": [
    {
     "name": "stdout",
     "output_type": "stream",
     "text": [
      "wrapper\n",
      "Je suis la fct\n"
     ]
    }
   ],
   "source": [
    "from functools import wraps\n",
    "#documentation\n",
    "def decorator_dummy(fct):\n",
    "    @wraps(fct)\n",
    "    def wrapper():\n",
    "        \"\"\" Documentation pour explicquer le décorator\"\"\"\n",
    "        print(\"wrapper\")\n",
    "        fct()\n",
    "    return wrapper\n",
    "\n",
    "@decorator_dummy\n",
    "def function():\n",
    "    \"\"\" J'ai une documentation super important sur la fonction\"\"\"\n",
    "    print(\"Je suis la fct\")\n",
    "\n",
    "function()"
   ]
  },
  {
   "cell_type": "code",
   "execution_count": 70,
   "id": "0f73cf6e-1461-4bb7-80fd-6142c16271a8",
   "metadata": {},
   "outputs": [
    {
     "name": "stdout",
     "output_type": "stream",
     "text": [
      " J'ai une documentation super important sur la fonction\n"
     ]
    }
   ],
   "source": [
    "print(function.__doc__)"
   ]
  },
  {
   "cell_type": "code",
   "execution_count": 83,
   "id": "f7f9b2e8-eadb-49fa-ab51-9817a61e1747",
   "metadata": {},
   "outputs": [],
   "source": [
    "# démonstration\n",
    "import hashlib \n",
    "import pickle\n",
    "\n",
    "cache = {}\n",
    "\n",
    "def compute_key(function, args, kwargs):\n",
    "    key = pickle.dumps((function.__name__, args, kwargs))\n",
    "    return hashlib.sha1(key).hexdigest()\n",
    "\n",
    "def memoire(function):\n",
    "    def wrapper(*args, **kwargs):\n",
    "        key = compute_key(function, args, kwargs)\n",
    "        if (key in cache):\n",
    "            print(\"already calculate, use cache\")\n",
    "            return cache[key]\n",
    "        result = function(*args, **kwargs)\n",
    "        cache[key] = result\n",
    "        return result\n",
    "    return wrapper\n",
    "    \n",
    "print(compute_key(travaille_lourd, 3, 4))\n",
    "print(compute_key(travaille_lourd, 3, 4))\n",
    "print(compute_key(travaille_lourd, 3, 5))\n",
    "print(compute_key(function, 3, 5))    "
   ]
  },
  {
   "cell_type": "code",
   "execution_count": 84,
   "id": "25b6caf5-ff89-4242-a0c6-be98177f3ad3",
   "metadata": {},
   "outputs": [
    {
     "data": {
      "text/plain": [
       "9"
      ]
     },
     "execution_count": 84,
     "metadata": {},
     "output_type": "execute_result"
    }
   ],
   "source": [
    "@memoire\n",
    "def travaille_lourd(a, b):\n",
    "    time.sleep(3)\n",
    "    return a + b\n",
    "    \n",
    "travaille_lourd(3, 6)"
   ]
  },
  {
   "cell_type": "code",
   "execution_count": 85,
   "id": "0075f995-6212-4391-9f57-2efab61152a3",
   "metadata": {},
   "outputs": [
    {
     "data": {
      "text/plain": [
       "10"
      ]
     },
     "execution_count": 85,
     "metadata": {},
     "output_type": "execute_result"
    }
   ],
   "source": [
    "travaille_lourd(3, 7)"
   ]
  },
  {
   "cell_type": "code",
   "execution_count": 86,
   "id": "39550f04-f8d4-47e8-bf97-ab4ddeb80754",
   "metadata": {},
   "outputs": [
    {
     "name": "stdout",
     "output_type": "stream",
     "text": [
      "{'54c405554c40f3d2ba8558714899bc385a716c9b': 9, '3ff228627f46067c903d383051863d6a2cf127b9': 10}\n"
     ]
    }
   ],
   "source": [
    "print(cache)"
   ]
  },
  {
   "cell_type": "code",
   "execution_count": 87,
   "id": "de2b1c20-a86a-4f18-9cf6-55f48bbfc361",
   "metadata": {},
   "outputs": [
    {
     "name": "stdout",
     "output_type": "stream",
     "text": [
      "already calculate, use cache\n"
     ]
    },
    {
     "data": {
      "text/plain": [
       "10"
      ]
     },
     "execution_count": 87,
     "metadata": {},
     "output_type": "execute_result"
    }
   ],
   "source": [
    "travaille_lourd(3, 7)"
   ]
  },
  {
   "cell_type": "code",
   "execution_count": 88,
   "id": "ce8bb67e-9cb8-4085-bab3-b7868fe3166e",
   "metadata": {},
   "outputs": [],
   "source": [
    "cache = {}\n",
    "cache[(3,4)] = 7"
   ]
  },
  {
   "cell_type": "code",
   "execution_count": 89,
   "id": "9845d08b-1d1a-48f8-a29c-080e279fd7fb",
   "metadata": {},
   "outputs": [
    {
     "data": {
      "text/plain": [
       "{(3, 4): 7}"
      ]
     },
     "execution_count": 89,
     "metadata": {},
     "output_type": "execute_result"
    }
   ],
   "source": [
    "cache\n",
    "\n"
   ]
  },
  {
   "cell_type": "code",
   "execution_count": 101,
   "id": "49958a0a-53dd-4480-80d6-a58ad19c5e29",
   "metadata": {},
   "outputs": [
    {
     "name": "stdout",
     "output_type": "stream",
     "text": [
      "OrderedDict({(4, 5): 9})\n",
      "9\n",
      "OrderedDict({(4, 5): 9, (0, 9): 9})\n",
      "9\n",
      "Already cached\n",
      "9\n"
     ]
    }
   ],
   "source": [
    "from collections import OrderedDict\n",
    "\n",
    "cache = OrderedDict()\n",
    "\n",
    "def cached_limit(limit):\n",
    "    def cached(function):\n",
    "        def wrapper(*args):\n",
    "            if args in cache:\n",
    "                cache.move_to_end(args)\n",
    "                print(\"Already cached\")\n",
    "                return cache[args]\n",
    "            else:\n",
    "                result = function(*args)\n",
    "                cache[args] = result\n",
    "                cache.move_to_end(args)\n",
    "                if (len(cache) > limit):\n",
    "                    cache.popitem(last = False)\n",
    "                print(cache)\n",
    "                return result\n",
    "        return wrapper \n",
    "    return cached\n",
    "\n",
    "@cached_limit(2)\n",
    "def compute_sum(a, b):\n",
    "    time.sleep(2)\n",
    "    return a + b\n",
    "\n",
    "print(compute_sum(4, 5))\n",
    "\n",
    "print(compute_sum(0, 9))\n",
    "\n",
    "print(compute_sum(0, 9))"
   ]
  },
  {
   "cell_type": "code",
   "execution_count": 102,
   "id": "0cbf775a-7097-470c-aa52-cdc4702876cb",
   "metadata": {},
   "outputs": [
    {
     "name": "stdout",
     "output_type": "stream",
     "text": [
      "Already cached\n",
      "9\n"
     ]
    }
   ],
   "source": [
    "print(compute_sum(4, 5))"
   ]
  },
  {
   "cell_type": "code",
   "execution_count": 103,
   "id": "90fe388e-d6f7-442e-962f-6c922cc5b4d2",
   "metadata": {},
   "outputs": [
    {
     "name": "stdout",
     "output_type": "stream",
     "text": [
      "OrderedDict({(4, 5): 9, (-2, 5): 3})\n",
      "3\n"
     ]
    }
   ],
   "source": [
    "print(compute_sum(-2, 5))"
   ]
  },
  {
   "cell_type": "code",
   "execution_count": 132,
   "id": "df05316c-599c-492c-add4-7bcc6e7a679a",
   "metadata": {},
   "outputs": [
    {
     "name": "stdout",
     "output_type": "stream",
     "text": [
      "[(4, <class 'int'>), ('MARTN', <class 'str'>)]\n",
      "Processing 4: MARTN\n",
      "[(4.4, <class 'int'>), ('MARTN', <class 'str'>)]\n"
     ]
    },
    {
     "ename": "TypeError",
     "evalue": "4.4 is not class <class 'int'>",
     "output_type": "error",
     "traceback": [
      "\u001b[1;31m---------------------------------------------------------------------------\u001b[0m",
      "\u001b[1;31mTypeError\u001b[0m                                 Traceback (most recent call last)",
      "Cell \u001b[1;32mIn[132], line 21\u001b[0m\n\u001b[0;32m     18\u001b[0m     \u001b[38;5;28mprint\u001b[39m(\u001b[38;5;124mf\u001b[39m\u001b[38;5;124m\"\u001b[39m\u001b[38;5;124mProcessing \u001b[39m\u001b[38;5;132;01m{\u001b[39;00midentifiant\u001b[38;5;132;01m}\u001b[39;00m\u001b[38;5;124m: \u001b[39m\u001b[38;5;132;01m{\u001b[39;00mname\u001b[38;5;132;01m}\u001b[39;00m\u001b[38;5;124m\"\u001b[39m)\n\u001b[0;32m     20\u001b[0m process_data(\u001b[38;5;241m4\u001b[39m, \u001b[38;5;124m\"\u001b[39m\u001b[38;5;124mMARTN\u001b[39m\u001b[38;5;124m\"\u001b[39m)\n\u001b[1;32m---> 21\u001b[0m \u001b[43mprocess_data\u001b[49m\u001b[43m(\u001b[49m\u001b[38;5;241;43m4.4\u001b[39;49m\u001b[43m,\u001b[49m\u001b[43m \u001b[49m\u001b[38;5;124;43m\"\u001b[39;49m\u001b[38;5;124;43mMARTN\u001b[39;49m\u001b[38;5;124;43m\"\u001b[39;49m\u001b[43m)\u001b[49m\n",
      "Cell \u001b[1;32mIn[132], line 10\u001b[0m, in \u001b[0;36mvalidate_types.<locals>.validate_arguments.<locals>.wrapper\u001b[1;34m(*args)\u001b[0m\n\u001b[0;32m      8\u001b[0m \u001b[38;5;28;01mfor\u001b[39;00m type_arg, arg \u001b[38;5;129;01min\u001b[39;00m \u001b[38;5;28mzip\u001b[39m(types, args):\n\u001b[0;32m      9\u001b[0m     \u001b[38;5;28;01mif\u001b[39;00m \u001b[38;5;129;01mnot\u001b[39;00m \u001b[38;5;28misinstance\u001b[39m(arg, type_arg):\n\u001b[1;32m---> 10\u001b[0m         \u001b[38;5;28;01mraise\u001b[39;00m \u001b[38;5;167;01mTypeError\u001b[39;00m(\u001b[38;5;124mf\u001b[39m\u001b[38;5;124m\"\u001b[39m\u001b[38;5;132;01m{\u001b[39;00marg\u001b[38;5;132;01m}\u001b[39;00m\u001b[38;5;124m is not class \u001b[39m\u001b[38;5;132;01m{\u001b[39;00mtype_arg\u001b[38;5;132;01m}\u001b[39;00m\u001b[38;5;124m\"\u001b[39m)\n\u001b[0;32m     11\u001b[0m \u001b[38;5;28;01mreturn\u001b[39;00m function(\u001b[38;5;241m*\u001b[39margs)\n",
      "\u001b[1;31mTypeError\u001b[0m: 4.4 is not class <class 'int'>"
     ]
    }
   ],
   "source": [
    "#correction Exercice 3\n",
    "def validate_types(types):\n",
    "    def validate_arguments(function):\n",
    "        def wrapper(*args):\n",
    "            if len(args) != len(types):\n",
    "                raise ValueError(f\" {len(types)} types = than function call {len(args)}\")\n",
    "            print(list(zip(args, types)))\n",
    "            for type_arg, arg in zip(types, args):\n",
    "                if not isinstance(arg, type_arg):\n",
    "                    raise TypeError(f\"{arg} is not class {type_arg}\")\n",
    "            return function(*args)\n",
    "        return wrapper\n",
    "    return validate_arguments \n",
    "\n",
    "\n",
    "@validate_types(types=[int, str])\n",
    "def process_data(identifiant, name):\n",
    "    print(f\"Processing {identifiant}: {name}\")\n",
    "\n",
    "process_data(4, \"MARTN\")\n",
    "#process_data(4.4, \"MARTN\")\n",
    "\n",
    "    \n",
    "\n"
   ]
  },
  {
   "cell_type": "code",
   "execution_count": 117,
   "id": "f59db7eb-6955-401b-a3d6-7ab89c77f3ae",
   "metadata": {},
   "outputs": [
    {
     "name": "stdout",
     "output_type": "stream",
     "text": [
      "[('A', 1, -1), ('B', 2, -2), ('C', 3, -3), ('D', 4, -4)]\n",
      "A 1 -1\n",
      "B 2 -2\n",
      "C 3 -3\n",
      "D 4 -4\n"
     ]
    }
   ],
   "source": [
    "liste1 = [\"A\", \"B\", \"C\", \"D\"]\n",
    "liste2 = [1, 2, 3, 4]\n",
    "liste3 = [-1, -2, -3, -4]\n",
    "print(list(zip(liste1, liste2, liste3)))\n",
    "for a, b, c in zip(liste1, liste2, liste3):\n",
    "\n",
    "    print(a, b, c)"
   ]
  },
  {
   "cell_type": "code",
   "execution_count": 120,
   "id": "42fd3511-8912-4ec9-831e-fa45d71f449f",
   "metadata": {},
   "outputs": [
    {
     "name": "stdout",
     "output_type": "stream",
     "text": [
      "[(0, 'A'), (1, 'B'), (2, 'C'), (3, 'D')]\n",
      "['a', 'b', 'c', 'd']\n"
     ]
    }
   ],
   "source": [
    "liste1 = [\"A\", \"B\", \"C\", \"D\"]\n",
    "print(list(enumerate(liste1)))\n",
    "for index, object in enumerate(liste1):\n",
    "    liste1[index] = object.lower()\n",
    "print(liste1)"
   ]
  },
  {
   "cell_type": "code",
   "execution_count": 125,
   "id": "331fe3dc-1e9c-4321-bae2-525652cfad41",
   "metadata": {},
   "outputs": [
    {
     "name": "stdout",
     "output_type": "stream",
     "text": [
      "[(0, ('A', 'Z')), (1, ('B', 'R')), (2, ('C', 'O')), (3, ('D', 'U'))]\n",
      "['a', 'b', 'c', 'd']\n",
      "['z', 'r', 'o', 'u']\n"
     ]
    }
   ],
   "source": [
    "liste1 = [\"A\", \"B\", \"C\", \"D\"]\n",
    "liste2 = [\"Z\", \"R\", \"O\", \"U\"]\n",
    "\n",
    "print(list(enumerate(zip(liste1, liste2))))\n",
    "for index, (l1, l2) in enumerate(zip(liste1, liste2)):\n",
    "    liste1[index] = l1.lower()\n",
    "    liste2[index] = l2.lower()\n",
    "print(liste1)\n",
    "print(liste2)"
   ]
  },
  {
   "cell_type": "code",
   "execution_count": null,
   "id": "8f2cdbd0-2e61-4eab-b83e-968c58b13a72",
   "metadata": {},
   "outputs": [],
   "source": []
  }
 ],
 "metadata": {
  "kernelspec": {
   "display_name": "Python 3 (ipykernel)",
   "language": "python",
   "name": "python3"
  },
  "language_info": {
   "codemirror_mode": {
    "name": "ipython",
    "version": 3
   },
   "file_extension": ".py",
   "mimetype": "text/x-python",
   "name": "python",
   "nbconvert_exporter": "python",
   "pygments_lexer": "ipython3",
   "version": "3.12.7"
  }
 },
 "nbformat": 4,
 "nbformat_minor": 5
}
