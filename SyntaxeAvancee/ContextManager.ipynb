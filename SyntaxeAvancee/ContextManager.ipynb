{
 "cells": [
  {
   "cell_type": "code",
   "execution_count": 137,
   "id": "2e58f536-6b39-4b30-9aad-f933ba39dfac",
   "metadata": {},
   "outputs": [
    {
     "name": "stdout",
     "output_type": "stream",
     "text": [
      "Line 1\n",
      "\n",
      "Line 2\n",
      "\n",
      "Line 3\n",
      "\n",
      "Line 4\n",
      "\n",
      "Line END\n",
      "Exception\n",
      "\n",
      "Closed\n"
     ]
    }
   ],
   "source": [
    "file = open(\"./fichier.txt\")\n",
    "try:\n",
    "    for line in file:\n",
    "        print(line)\n",
    "    raise ValueError\n",
    "except Exception as e:\n",
    "    print(\"Exception\")\n",
    "    print(f\"{e}\")\n",
    "finally:\n",
    "    print(\"Closed\")\n",
    "    file.close()"
   ]
  },
  {
   "cell_type": "code",
   "execution_count": 140,
   "id": "24691beb-8bbf-44b5-90c4-d09ebb041d3e",
   "metadata": {},
   "outputs": [
    {
     "name": "stdout",
     "output_type": "stream",
     "text": [
      "Line 1\n",
      "\n",
      "Line 2\n",
      "\n",
      "Line 3\n",
      "\n",
      "Line 4\n",
      "\n",
      "Line END\n",
      "SORTIE\n"
     ]
    }
   ],
   "source": [
    "with open(\"./fichier.txt\") as file:\n",
    "    for line in file:\n",
    "        print(line)\n",
    "print(\"SORTIE\")"
   ]
  },
  {
   "cell_type": "code",
   "execution_count": 148,
   "id": "8848622c-de3b-424a-8dff-2f53e1095e57",
   "metadata": {},
   "outputs": [
    {
     "name": "stdout",
     "output_type": "stream",
     "text": [
      "Je prepare le contexte\n",
      "Ceci est un object disponible dans le contexte, generarement mise en plca par enter\n",
      "Je suis dans le contxte\n",
      "On sort du contxte\n",
      "Exception <class 'Exception'> Quest ce qui ce passe\n",
      "Cette instruction n'est pas dans le contexte\n"
     ]
    }
   ],
   "source": [
    "class ContextShowMe:\n",
    "    def __enter__(self):\n",
    "        print(\"Je prepare le contexte\")\n",
    "        return \"Ceci est un object disponible dans le contexte, generarement mise en plca par enter\"\n",
    "        \n",
    "    def __exit__(self, exc_type, exc_instance, traceback):\n",
    "        print(\"On sort du contxte\")\n",
    "        if exc_type is None:\n",
    "            print(\"PAs d'exception\")\n",
    "        else:\n",
    "            print(f\"Exception {exc_type} {exc_instance}\")\n",
    "        return True\n",
    "\n",
    "with ContextShowMe() as variable:\n",
    "    print(variable)\n",
    "    print(\"Je suis dans le contxte\")\n",
    "    raise Exception(\"Quest ce qui ce passe\")\n",
    "print(\"Cette instruction n'est pas dans le contexte\")"
   ]
  },
  {
   "cell_type": "code",
   "execution_count": null,
   "id": "084863f8-a064-4521-af54-bd5522850386",
   "metadata": {},
   "outputs": [],
   "source": [
    "class Config:\n",
    "    etat = \"normal\"\n",
    "\n",
    "config = Config() \n",
    "\n",
    "etat_orignal = config.etat\n",
    "try:\n",
    "    config.etat = \"temporaire\"\n",
    "    print(\"La config est adapté pour mon instruction\")\n",
    "finally:\n",
    "    config.etat = etat_original\n",
    "    \n",
    "with ConfigManager():\n",
    "    print(\"La config est adapté pour mon instruction\")"
   ]
  },
  {
   "cell_type": "code",
   "execution_count": 150,
   "id": "ef675f60-e233-486f-93cf-835c0f350749",
   "metadata": {},
   "outputs": [
    {
     "name": "stdout",
     "output_type": "stream",
     "text": [
      "Transaction débutée\n",
      "1 opération\n",
      "Transaction annulée (rollback)\n"
     ]
    }
   ],
   "source": [
    "class FakeDB:\n",
    "    def begin(self):\n",
    "        print(\"Transaction débutée\")\n",
    "\n",
    "    def commit(self):\n",
    "        print(\"Transaction validée (commit)\")\n",
    "\n",
    "    def rollback(self):\n",
    "        print(\"Transaction annulée (rollback)\")\n",
    "\n",
    "class Transaction:\n",
    "    def __init__(self, db):\n",
    "        self.db = db\n",
    "\n",
    "    def __enter__(self):\n",
    "        self.db.begin()\n",
    "        return self.db\n",
    "        \n",
    "        \n",
    "    def __exit__(self, exc_type, exc_instance, traceback):\n",
    "        if exc_type is None:\n",
    "            self.db.commit()\n",
    "        else:\n",
    "            self.db.rollback()\n",
    "        return True\n",
    "        \n",
    "db = FakeDB()\n",
    "\n",
    "with Transaction(db) as database: \n",
    "    print(\"1 opération\")\n",
    "    raise ValueError(\"plus de palce\")\n",
    "    print(\"2 opération\")"
   ]
  },
  {
   "cell_type": "code",
   "execution_count": 153,
   "id": "8c66e7b1-3ee9-4235-ab44-ae958c8cc43e",
   "metadata": {
    "scrolled": true
   },
   "outputs": [
    {
     "name": "stdout",
     "output_type": "stream",
     "text": [
      "time is 4.000601530075073\n"
     ]
    }
   ],
   "source": [
    "class Benchmark:\n",
    "    def __enter__(self):\n",
    "        self.debut = time.time()\n",
    "         \n",
    "    def __exit__(self, exc_type, exc_instance, traceback):\n",
    "        print(f\"time is {time.time() - self.debut}\")\n",
    "        return True\n",
    "\n",
    "with Benchmark():\n",
    "    time.sleep(4)"
   ]
  },
  {
   "cell_type": "code",
   "execution_count": 157,
   "id": "acfd87ae-9a0d-41ec-ac6c-61defb74e96b",
   "metadata": {},
   "outputs": [
    {
     "name": "stdout",
     "output_type": "stream",
     "text": [
      "Transaction débutée\n",
      "1 opération\n",
      "2 opération\n",
      "Transaction validée (commit)\n"
     ]
    }
   ],
   "source": [
    "#contextlib\n",
    "from contextlib import contextmanager\n",
    "\n",
    "@contextmanager\n",
    "def transaction(db):\n",
    "    try:\n",
    "        db.begin()\n",
    "        yield db\n",
    "        #instruction with\n",
    "    except Exception as e:\n",
    "        db.rollback()\n",
    "    else:\n",
    "        db.commit()\n",
    "    finally:\n",
    "        pass\n",
    "        \n",
    "        \n",
    "db = FakeDB()\n",
    "\n",
    "with transaction(db) as database: \n",
    "    print(\"1 opération\")\n",
    "    #raise ValueError(\"plus de palce\")\n",
    "    print(\"2 opération\")"
   ]
  },
  {
   "cell_type": "code",
   "execution_count": 161,
   "id": "77b60e5d-f357-4687-aaa1-de2b4cdb4738",
   "metadata": {},
   "outputs": [],
   "source": [
    "#context lib - suppress\n",
    "\n",
    "from contextlib import suppress\n",
    "with suppress(FileNotFoundError, ValueError):\n",
    "    with open(\"./fichierinxexitant.format\") as file:\n",
    "        print(file.read())"
   ]
  },
  {
   "cell_type": "code",
   "execution_count": 162,
   "id": "fcf8aa09-51b6-4f77-a8e5-e4567a887941",
   "metadata": {},
   "outputs": [],
   "source": [
    "from contextlib import suppress\n",
    "with suppress(FileNotFoundError, ValueError), open(\"./fichierinxexitant.format\") as file:\n",
    "        print(file.read())"
   ]
  },
  {
   "cell_type": "code",
   "execution_count": 164,
   "id": "758dae59-6935-4b8d-815a-b4e901bddda2",
   "metadata": {},
   "outputs": [
    {
     "name": "stdout",
     "output_type": "stream",
     "text": [
      "Ouverture de la connexion à la base de données.\n",
      "isntruction dans le contxete\n",
      "Fermeture de la connexion à la base de données.\n"
     ]
    }
   ],
   "source": [
    "from contextlib import closing\n",
    "\n",
    "class FakeDBConnection:\n",
    "    def __init__(self):\n",
    "        print(\"Ouverture de la connexion à la base de données.\")\n",
    "\n",
    "    def close(self):\n",
    "        print(\"Fermeture de la connexion à la base de données.\")\n",
    "\n",
    "with closing(FakeDBConnection()):\n",
    "    print(\"isntruction dans le contxete\")"
   ]
  },
  {
   "cell_type": "code",
   "execution_count": null,
   "id": "23188eda-9cd1-4c70-9a46-24740a0e7245",
   "metadata": {},
   "outputs": [],
   "source": []
  }
 ],
 "metadata": {
  "kernelspec": {
   "display_name": "Python 3 (ipykernel)",
   "language": "python",
   "name": "python3"
  },
  "language_info": {
   "codemirror_mode": {
    "name": "ipython",
    "version": 3
   },
   "file_extension": ".py",
   "mimetype": "text/x-python",
   "name": "python",
   "nbconvert_exporter": "python",
   "pygments_lexer": "ipython3",
   "version": "3.12.7"
  }
 },
 "nbformat": 4,
 "nbformat_minor": 5
}
