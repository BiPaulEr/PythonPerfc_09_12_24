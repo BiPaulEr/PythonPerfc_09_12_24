{
 "cells": [
  {
   "cell_type": "code",
   "execution_count": 137,
   "id": "2e58f536-6b39-4b30-9aad-f933ba39dfac",
   "metadata": {},
   "outputs": [
    {
     "name": "stdout",
     "output_type": "stream",
     "text": [
      "Line 1\n",
      "\n",
      "Line 2\n",
      "\n",
      "Line 3\n",
      "\n",
      "Line 4\n",
      "\n",
      "Line END\n",
      "Exception\n",
      "\n",
      "Closed\n"
     ]
    }
   ],
   "source": [
    "file = open(\"./fichier.txt\")\n",
    "try:\n",
    "    for line in file:\n",
    "        print(line)\n",
    "    raise ValueError\n",
    "except Exception as e:\n",
    "    print(\"Exception\")\n",
    "    print(f\"{e}\")\n",
    "finally:\n",
    "    print(\"Closed\")\n",
    "    file.close()"
   ]
  },
  {
   "cell_type": "code",
   "execution_count": 140,
   "id": "24691beb-8bbf-44b5-90c4-d09ebb041d3e",
   "metadata": {},
   "outputs": [
    {
     "name": "stdout",
     "output_type": "stream",
     "text": [
      "Line 1\n",
      "\n",
      "Line 2\n",
      "\n",
      "Line 3\n",
      "\n",
      "Line 4\n",
      "\n",
      "Line END\n",
      "SORTIE\n"
     ]
    }
   ],
   "source": [
    "with open(\"./fichier.txt\") as file:\n",
    "    for line in file:\n",
    "        print(line)\n",
    "print(\"SORTIE\")"
   ]
  },
  {
   "cell_type": "code",
   "execution_count": 148,
   "id": "8848622c-de3b-424a-8dff-2f53e1095e57",
   "metadata": {},
   "outputs": [
    {
     "name": "stdout",
     "output_type": "stream",
     "text": [
      "Je prepare le contexte\n",
      "Ceci est un object disponible dans le contexte, generarement mise en plca par enter\n",
      "Je suis dans le contxte\n",
      "On sort du contxte\n",
      "Exception <class 'Exception'> Quest ce qui ce passe\n",
      "Cette instruction n'est pas dans le contexte\n"
     ]
    }
   ],
   "source": [
    "class ContextShowMe:\n",
    "    def __enter__(self):\n",
    "        print(\"Je prepare le contexte\")\n",
    "        return \"Ceci est un object disponible dans le contexte, generarement mise en plca par enter\"\n",
    "        \n",
    "    def __exit__(self, exc_type, exc_instance, traceback):\n",
    "        print(\"On sort du contxte\")\n",
    "        if exc_type is None:\n",
    "            print(\"PAs d'exception\")\n",
    "        else:\n",
    "            print(f\"Exception {exc_type} {exc_instance}\")\n",
    "        return True\n",
    "\n",
    "with ContextShowMe() as variable:\n",
    "    print(variable)\n",
    "    print(\"Je suis dans le contxte\")\n",
    "    raise Exception(\"Quest ce qui ce passe\")\n",
    "print(\"Cette instruction n'est pas dans le contexte\")"
   ]
  },
  {
   "cell_type": "code",
   "execution_count": null,
   "id": "084863f8-a064-4521-af54-bd5522850386",
   "metadata": {},
   "outputs": [],
   "source": [
    "class Config:\n",
    "    etat = \"normal\"\n",
    "\n",
    "config = Config() \n",
    "\n",
    "etat_orignal = config.etat\n",
    "try:\n",
    "    config.etat = \"temporaire\"\n",
    "    print(\"La config est adapté pour mon instruction\")\n",
    "finally:\n",
    "    config.etat = etat_original\n",
    "    \n",
    "with ConfigManager():\n",
    "    print(\"La config est adapté pour mon instruction\")"
   ]
  }
 ],
 "metadata": {
  "kernelspec": {
   "display_name": "Python 3 (ipykernel)",
   "language": "python",
   "name": "python3"
  },
  "language_info": {
   "codemirror_mode": {
    "name": "ipython",
    "version": 3
   },
   "file_extension": ".py",
   "mimetype": "text/x-python",
   "name": "python",
   "nbconvert_exporter": "python",
   "pygments_lexer": "ipython3",
   "version": "3.12.7"
  }
 },
 "nbformat": 4,
 "nbformat_minor": 5
}
