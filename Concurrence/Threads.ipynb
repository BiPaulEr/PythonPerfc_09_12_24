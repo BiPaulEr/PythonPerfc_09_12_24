{
 "cells": [
  {
   "cell_type": "code",
   "execution_count": 19,
   "id": "4c8bb3f2-f031-4c8f-b231-cabdcabb1281",
   "metadata": {},
   "outputs": [
    {
     "name": "stdout",
     "output_type": "stream",
     "text": [
      "<Thread(Thread-20 (simple_worker), started 36720)>\n",
      "Bonjour\n"
     ]
    }
   ],
   "source": [
    "from threading import Thread\n",
    "import time \n",
    "\n",
    "def simple_worker():\n",
    "    print(threading.current_thread())\n",
    "    time.sleep(0.2)\n",
    "    print(\"Bonjour\")\n",
    "\n",
    "t1 = Thread(target=simple_worker)\n",
    "t1.start()\n"
   ]
  },
  {
   "cell_type": "code",
   "execution_count": 20,
   "id": "66a4a584-f441-4091-aeb6-0cc6558a4002",
   "metadata": {},
   "outputs": [
    {
     "name": "stdout",
     "output_type": "stream",
     "text": [
      "<Thread(Thread-21 (simple_worker), started 39844)>\n"
     ]
    },
    {
     "ename": "RuntimeError",
     "evalue": "threads can only be started once",
     "output_type": "error",
     "traceback": [
      "\u001b[1;31m---------------------------------------------------------------------------\u001b[0m",
      "\u001b[1;31mRuntimeError\u001b[0m                              Traceback (most recent call last)",
      "Cell \u001b[1;32mIn[20], line 11\u001b[0m\n\u001b[0;32m      9\u001b[0m t1 \u001b[38;5;241m=\u001b[39m Thread(target\u001b[38;5;241m=\u001b[39msimple_worker)\n\u001b[0;32m     10\u001b[0m t1\u001b[38;5;241m.\u001b[39mstart()\n\u001b[1;32m---> 11\u001b[0m \u001b[43mt1\u001b[49m\u001b[38;5;241;43m.\u001b[39;49m\u001b[43mstart\u001b[49m\u001b[43m(\u001b[49m\u001b[43m)\u001b[49m\n",
      "File \u001b[1;32m~\\AppData\\Local\\Programs\\Python\\Python312\\Lib\\threading.py:989\u001b[0m, in \u001b[0;36mThread.start\u001b[1;34m(self)\u001b[0m\n\u001b[0;32m    986\u001b[0m     \u001b[38;5;28;01mraise\u001b[39;00m \u001b[38;5;167;01mRuntimeError\u001b[39;00m(\u001b[38;5;124m\"\u001b[39m\u001b[38;5;124mthread.__init__() not called\u001b[39m\u001b[38;5;124m\"\u001b[39m)\n\u001b[0;32m    988\u001b[0m \u001b[38;5;28;01mif\u001b[39;00m \u001b[38;5;28mself\u001b[39m\u001b[38;5;241m.\u001b[39m_started\u001b[38;5;241m.\u001b[39mis_set():\n\u001b[1;32m--> 989\u001b[0m     \u001b[38;5;28;01mraise\u001b[39;00m \u001b[38;5;167;01mRuntimeError\u001b[39;00m(\u001b[38;5;124m\"\u001b[39m\u001b[38;5;124mthreads can only be started once\u001b[39m\u001b[38;5;124m\"\u001b[39m)\n\u001b[0;32m    991\u001b[0m \u001b[38;5;28;01mwith\u001b[39;00m _active_limbo_lock:\n\u001b[0;32m    992\u001b[0m     _limbo[\u001b[38;5;28mself\u001b[39m] \u001b[38;5;241m=\u001b[39m \u001b[38;5;28mself\u001b[39m\n",
      "\u001b[1;31mRuntimeError\u001b[0m: threads can only be started once"
     ]
    },
    {
     "name": "stdout",
     "output_type": "stream",
     "text": [
      "Bonjour\n"
     ]
    }
   ],
   "source": [
    "from threading import Thread\n",
    "import time \n",
    "\n",
    "def simple_worker():\n",
    "    print(threading.current_thread())\n",
    "    time.sleep(0.2)\n",
    "    print(\"Bonjour\")\n",
    "\n",
    "t1 = Thread(target=simple_worker)\n",
    "t1.start()\n",
    "t1.start()"
   ]
  },
  {
   "cell_type": "code",
   "execution_count": 21,
   "id": "8e92ec96-5261-40b8-9ce9-b861bff9cb89",
   "metadata": {},
   "outputs": [
    {
     "name": "stdout",
     "output_type": "stream",
     "text": [
      "Thread-22 (simple_worker)\n",
      "None\n",
      "False\n",
      "<Thread(Thread-22 (simple_worker), started 272)>\n",
      "Thread-22 (simple_worker)\n",
      "272\n",
      "True\n",
      "Bonjour\n",
      "Thread-22 (simple_worker)\n",
      "272\n",
      "False\n"
     ]
    }
   ],
   "source": [
    "def info(thread):\n",
    "    print(thread.name)\n",
    "    print(thread.ident)\n",
    "    print(thread.is_alive())\n",
    "\n",
    "\n",
    "t1 = Thread(target=simple_worker)\n",
    "info(t1)\n",
    "t1.start()\n",
    "info(t1)\n",
    "time.sleep(1)\n",
    "info(t1)\n",
    "\n"
   ]
  },
  {
   "cell_type": "code",
   "execution_count": 32,
   "id": "a6b2e98f-d1af-43a1-b6f4-8fb55da40456",
   "metadata": {},
   "outputs": [
    {
     "name": "stdout",
     "output_type": "stream",
     "text": [
      "*..**..*.*.*.*.**..*"
     ]
    }
   ],
   "source": [
    "#environ 10 secondes \n",
    "def worker(caractere):\n",
    "    for i in range(0,10):\n",
    "        print(caractere, flush = True, end='')\n",
    "        time.sleep(1)   \n",
    "        \n",
    "t_asterix = Thread(target=worker, args=(\"*\",))\n",
    "t_asterix.start()\n",
    "t_point = Thread(target=worker, args=(\".\",))\n",
    "t_point.start()\n",
    "\n",
    "t_asterix.join()\n",
    "t_point.join()"
   ]
  },
  {
   "cell_type": "code",
   "execution_count": 33,
   "id": "9b7e0ba4-16cc-4a49-9efc-6cd700c2ed21",
   "metadata": {},
   "outputs": [
    {
     "name": "stdout",
     "output_type": "stream",
     "text": [
      "********************time is 20.025364637374878\n"
     ]
    }
   ],
   "source": [
    "#environ 20 secondes \n",
    "class Benchmark:\n",
    "    def __enter__(self):\n",
    "        self.debut = time.time()\n",
    "         \n",
    "    def __exit__(self, exc_type, exc_instance, traceback):\n",
    "        print(f\"time is {time.time() - self.debut}\")\n",
    "        return True\n",
    "with Benchmark():        \n",
    "    worker(\"*\")\n",
    "    worker(\"*\")"
   ]
  },
  {
   "cell_type": "code",
   "execution_count": 34,
   "id": "e837595a-feb3-498f-acad-9f4c52c5338e",
   "metadata": {},
   "outputs": [
    {
     "name": "stdout",
     "output_type": "stream",
     "text": [
      "*..**.*..*.**..*.**.time is 10.03180742263794\n"
     ]
    }
   ],
   "source": [
    "#environ 10 secondes \n",
    "with Benchmark():        \n",
    "    t_asterix = Thread(target=worker, args=(\"*\",))\n",
    "    t_asterix.start()\n",
    "    t_point = Thread(target=worker, args=(\".\",))\n",
    "    t_point.start()\n",
    "    \n",
    "    t_asterix.join()\n",
    "    t_point.join()"
   ]
  },
  {
   "cell_type": "code",
   "execution_count": 44,
   "id": "ee96faa2-197f-46b8-8e31-7e5f6d466b1e",
   "metadata": {},
   "outputs": [],
   "source": [
    "#correction 1\n",
    "def ecrire_fichier():\n",
    "    name = threading.current_thread().name\n",
    "    for i in range(0, 11):\n",
    "        with open(\"./compte.txt\", \"a\") as f:\n",
    "             f.write(name +\" : \"+ str(i)+\"\\n\")\n",
    "             f.flush()\n",
    "threads = []\n",
    "for i in range(0,11):    \n",
    "    t = Thread(target=ecrire_fichier, name = f\"Thread {i+1}\")\n",
    "    threads.append(t)\n",
    "for t in threads:\n",
    "    t.start()\n",
    "\n",
    "\n"
   ]
  },
  {
   "cell_type": "code",
   "execution_count": 46,
   "id": "36cde519-6bb6-41fb-8cec-861dda10cb7d",
   "metadata": {},
   "outputs": [
    {
     "name": "stdout",
     "output_type": "stream",
     "text": [
      "*****_*_*_*_*_*_._._._._......"
     ]
    }
   ],
   "source": [
    "#environ 10 secondes \n",
    "def worker(caractere):\n",
    "    for i in range(0,10):\n",
    "        print(caractere, flush = True, end='')\n",
    "        time.sleep(1)   \n",
    "        \n",
    "t_asterix = Thread(target=worker, args=(\"*\",))\n",
    "t_asterix.start()\n",
    "\n",
    "time.sleep(5)\n",
    "t_underscore = Thread(target=worker, args=(\"_\",))\n",
    "t_underscore.start()\n",
    "\n",
    "t_point = Thread(target=worker, args=(\".\",))\n",
    "t_asterix.join()\n",
    "\n",
    "t_point.start()\n"
   ]
  },
  {
   "cell_type": "code",
   "execution_count": 52,
   "id": "fe466b52-fb22-406f-af91-e67da7edba8d",
   "metadata": {},
   "outputs": [],
   "source": [
    "#correction 2\n",
    "def ecrire_fichier(iterater):\n",
    "    name = threading.current_thread().name\n",
    "    for i in iterater:\n",
    "        with open(\"./compte.txt\", \"a\") as f:\n",
    "             f.write(name +\" : \"+ str(i)+\"\\n\")\n",
    "             f.flush()\n",
    "threads_nombre = []\n",
    "for i in range(0,3):    \n",
    "    t = Thread(target=ecrire_fichier, args=(range(0, 11),), name = f\"Thread {i+1}\")\n",
    "    threads_nombre.append(t)\n",
    "    \n",
    "threads_letter = []\n",
    "for i in range(0,3):    \n",
    "    t = Thread(target=ecrire_fichier, args=(iter(\"ABCDE\"),), name = f\"Thread {i+1}\")\n",
    "    threads_letter.append(t)\n",
    "for t in threads_nombre:\n",
    "    t.start()\n",
    "for t in threads_nombre:\n",
    "    t.join()    \n",
    "for t in threads_letter:\n",
    "    t.start()    \n"
   ]
  },
  {
   "cell_type": "code",
   "execution_count": 53,
   "id": "9dba71fa-0dd8-4ba7-b327-fa86d7430f50",
   "metadata": {},
   "outputs": [
    {
     "name": "stdout",
     "output_type": "stream",
     "text": [
      "*..**..**..*.**.*.*."
     ]
    }
   ],
   "source": [
    "def worker(caractere):\n",
    "    for i in range(0,10):\n",
    "        print(caractere, flush = True, end='')\n",
    "        time.sleep(1)   \n",
    "\n",
    "class Caracter(Thread):\n",
    "    def __init__(self, caractere, **kwargs):\n",
    "        self.caractere = caractere\n",
    "        super().__init__(**kwargs)\n",
    "\n",
    "    def run(self):\n",
    "        for i in range(0,10):\n",
    "            print(self.caractere, flush = True, end='')\n",
    "            time.sleep(1)   \n",
    "\n",
    "\n",
    "t_asterix = Caracter(\"*\")\n",
    "t_asterix.start()\n",
    "t_point = Caracter(\".\")\n",
    "t_point.start()\n"
   ]
  },
  {
   "cell_type": "code",
   "execution_count": 59,
   "id": "a7326f2d-4207-453f-af16-759d2ea7ab92",
   "metadata": {},
   "outputs": [
    {
     "name": "stdout",
     "output_type": "stream",
     "text": [
      "Thread-58 : Le 1 Msg\n",
      "Thread-60 : Le 3 Msg\n",
      "Thread-61 : Le 1 Msg\n",
      "Thread-62 : Le 2 Msg\n",
      "\n"
     ]
    }
   ],
   "source": [
    "#corrrection classe\n",
    "def ecrire_fichier(filepath, msg):\n",
    "    name = threading.current_thread().name\n",
    "    for i in range(0, 11):\n",
    "        with open(filepath, \"a\") as f:\n",
    "             f.write(name +\" : \"+ msg +\"\\n\")\n",
    "             f.flush()\n",
    "\n",
    "class AjouterMessageThread(Thread):\n",
    "    def __init__(self, filepath, msg, **kwargs):\n",
    "        self.filepath = filepath\n",
    "        self.msg = msg\n",
    "        super().__init__(**kwargs)\n",
    "\n",
    "    def run(self):\n",
    "        name = threading.current_thread().name\n",
    "        time.sleep(2)\n",
    "        with open(self.filepath, \"a\") as f:\n",
    "             f.write(name +\" : \"+ self.msg +\"\\n\")\n",
    "             f.flush()\n",
    "threads = []\n",
    "for i in range (0,3):\n",
    "    threads.append(AjouterMessageThread(\"message.txt\", f\"Le {i+1} Msg\"))\n",
    "for t in threads:\n",
    "    t.start()\n",
    "\n",
    "for t in threads:\n",
    "    t.join()\n",
    "\n",
    "with open(\"message.txt\", \"r\") as f:\n",
    "    print(f.read())\n",
    "\n",
    "    "
   ]
  },
  {
   "cell_type": "code",
   "execution_count": 66,
   "id": "1fb184c9-c9fd-438a-b25a-1b51de48ffe1",
   "metadata": {},
   "outputs": [
    {
     "name": "stdout",
     "output_type": "stream",
     "text": [
      "<_MainThread(MainThread, started 32540)> - value :  None\n",
      "<Thread(Thread-73 (worker), started 36300)> - value :  None\n",
      "<Thread(Thread-73 (worker), started 36300)> - value :  796\n",
      "<Thread(Thread-74 (worker), started 39644)> - value :  796\n",
      "<Thread(Thread-74 (worker), started 39644)> - value :  294\n",
      "<_MainThread(MainThread, started 32540)> - value :  294\n"
     ]
    }
   ],
   "source": [
    "from random import randint\n",
    "\n",
    "class SharedData:\n",
    "    value = None\n",
    "\n",
    "def show_value(data):\n",
    "    try:\n",
    "        val = data.value \n",
    "    except AttribueError:\n",
    "        print(threading.current_thread(), \"Pas encore de valeur\")\n",
    "    else:\n",
    "        print(threading.current_thread(), \"- value : \", val)\n",
    "\n",
    "def worker(data):\n",
    "    show_value(data)\n",
    "    data.value = randint(1, 1000)\n",
    "    show_value(data)\n",
    "\n",
    "shared_data = SharedData()\n",
    "\n",
    "show_value(shared_data)\n",
    "t1 = Thread(target = worker, args = (shared_data,))\n",
    "t1.start()\n",
    "t2 = Thread(target = worker, args = (shared_data,))\n",
    "t2.start()\n",
    "time.sleep(2)\n",
    "show_value(shared_data)\n",
    "    \n"
   ]
  },
  {
   "cell_type": "code",
   "execution_count": 69,
   "id": "e7184e52-9c63-48a8-98d2-13f8228a8863",
   "metadata": {},
   "outputs": [
    {
     "name": "stdout",
     "output_type": "stream",
     "text": [
      "<_MainThread(MainThread, started 32540)> Pas encore de valeur\n",
      "<Thread(Thread-75 (worker), started 20784)> Pas encore de valeur\n",
      "<Thread(Thread-75 (worker), started 20784)> - value :  765\n",
      "<Thread(Thread-76 (worker), started 29964)> Pas encore de valeur\n",
      "<Thread(Thread-76 (worker), started 29964)> - value :  585\n",
      "<_MainThread(MainThread, started 32540)> Pas encore de valeur\n"
     ]
    }
   ],
   "source": [
    "from random import randint\n",
    "from threading import local\n",
    "class SharedData:\n",
    "    value = None\n",
    "\n",
    "def show_value(data):\n",
    "    try:\n",
    "        val = data.value \n",
    "    except AttributeError as e:\n",
    "        print(threading.current_thread(), \"Pas encore de valeur\")\n",
    "    else:\n",
    "        print(threading.current_thread(), \"- value : \", val)\n",
    "\n",
    "def worker(data, default_value):\n",
    "    data.value = default_value\n",
    "    show_value(data)\n",
    "    data.value = randint(1, 1000)\n",
    "    show_value(data)\n",
    "\n",
    "local_data = local()\n",
    "local_data.value = 0 \n",
    "\n",
    "show_value(local_data)\n",
    "t1 = Thread(target = worker, args = (, default_value = 0 ))\n",
    "t1.start()\n",
    "t2 = Thread(target = worker, args = (local_data,default_value = 0))\n",
    "t2.start()\n",
    "time.sleep(2)\n",
    "show_value(local_data)"
   ]
  },
  {
   "cell_type": "code",
   "execution_count": null,
   "id": "820c5e01-1684-4db6-a33d-3e6c915bb9e6",
   "metadata": {},
   "outputs": [],
   "source": []
  }
 ],
 "metadata": {
  "kernelspec": {
   "display_name": "Python 3 (ipykernel)",
   "language": "python",
   "name": "python3"
  },
  "language_info": {
   "codemirror_mode": {
    "name": "ipython",
    "version": 3
   },
   "file_extension": ".py",
   "mimetype": "text/x-python",
   "name": "python",
   "nbconvert_exporter": "python",
   "pygments_lexer": "ipython3",
   "version": "3.12.7"
  }
 },
 "nbformat": 4,
 "nbformat_minor": 5
}
