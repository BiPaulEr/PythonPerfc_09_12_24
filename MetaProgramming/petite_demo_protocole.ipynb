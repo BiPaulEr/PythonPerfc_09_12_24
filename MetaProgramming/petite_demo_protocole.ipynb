{
 "cells": [
  {
   "cell_type": "code",
   "execution_count": 1,
   "id": "2bb582a6-10a6-4316-9333-cfdd12ec4689",
   "metadata": {},
   "outputs": [
    {
     "name": "stdout",
     "output_type": "stream",
     "text": [
      "<function function at 0x0000019A05717380>\n",
      "<class 'function'>\n"
     ]
    }
   ],
   "source": [
    "def function():\n",
    "    print(\"Bonjour\")\n",
    "\n",
    "print(function)\n",
    "print(type(function))"
   ]
  },
  {
   "cell_type": "code",
   "execution_count": 2,
   "id": "3205a589-55c4-488d-ac18-6d9bca4234b2",
   "metadata": {},
   "outputs": [
    {
     "name": "stdout",
     "output_type": "stream",
     "text": [
      "Bonjour\n"
     ]
    }
   ],
   "source": [
    "function()"
   ]
  },
  {
   "cell_type": "code",
   "execution_count": 4,
   "id": "1d13cda1-0a8e-4314-a8a5-f78f2a18f2e0",
   "metadata": {},
   "outputs": [
    {
     "name": "stdout",
     "output_type": "stream",
     "text": [
      "Bonjour\n"
     ]
    }
   ],
   "source": [
    "function.__call__()"
   ]
  },
  {
   "cell_type": "code",
   "execution_count": 5,
   "id": "47933714-e5f1-461f-adf2-21c8e00ba83e",
   "metadata": {},
   "outputs": [
    {
     "data": {
      "text/plain": [
       "True"
      ]
     },
     "execution_count": 5,
     "metadata": {},
     "output_type": "execute_result"
    }
   ],
   "source": [
    "3 in [3, 4, 5, 7]"
   ]
  },
  {
   "cell_type": "code",
   "execution_count": 6,
   "id": "a75f0ce8-6a33-4997-b2ef-d9511be72d90",
   "metadata": {},
   "outputs": [
    {
     "data": {
      "text/plain": [
       "False"
      ]
     },
     "execution_count": 6,
     "metadata": {},
     "output_type": "execute_result"
    }
   ],
   "source": [
    "4 in [7, 8] #__contains__"
   ]
  },
  {
   "cell_type": "code",
   "execution_count": 7,
   "id": "b1ff19a0-daff-4396-8813-ed2172d55040",
   "metadata": {},
   "outputs": [
    {
     "name": "stdout",
     "output_type": "stream",
     "text": [
      "4\n"
     ]
    }
   ],
   "source": [
    "tuple_ex = (1, 2, 3, 4)\n",
    "print(len(tuple_ex)) #len"
   ]
  },
  {
   "cell_type": "code",
   "execution_count": 8,
   "id": "57385817-4c6b-4b41-9142-cc664f72034c",
   "metadata": {},
   "outputs": [
    {
     "data": {
      "text/plain": [
       "3"
      ]
     },
     "execution_count": 8,
     "metadata": {},
     "output_type": "execute_result"
    }
   ],
   "source": [
    "tuple_ex[2] #getitem\n"
   ]
  },
  {
   "cell_type": "code",
   "execution_count": null,
   "id": "9eb9cf12-9dff-410e-a04e-fca27767730f",
   "metadata": {},
   "outputs": [],
   "source": []
  }
 ],
 "metadata": {
  "kernelspec": {
   "display_name": "Python 3 (ipykernel)",
   "language": "python",
   "name": "python3"
  },
  "language_info": {
   "codemirror_mode": {
    "name": "ipython",
    "version": 3
   },
   "file_extension": ".py",
   "mimetype": "text/x-python",
   "name": "python",
   "nbconvert_exporter": "python",
   "pygments_lexer": "ipython3",
   "version": "3.12.7"
  }
 },
 "nbformat": 4,
 "nbformat_minor": 5
}
