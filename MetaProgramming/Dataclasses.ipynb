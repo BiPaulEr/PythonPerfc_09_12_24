{
 "cells": [
  {
   "cell_type": "code",
   "execution_count": 22,
   "id": "8ba9ffa7-7b2c-4d00-a728-1ea29d66f5c0",
   "metadata": {},
   "outputs": [],
   "source": [
    "class Vector2D:\n",
    "    def __init__(self, x, y):\n",
    "        self.x = x\n",
    "        self.y = y\n",
    "        \n",
    "    def __add__(self, other):\n",
    "        return Vector2D(self.x + other.x, self.y + other.y)\n",
    "\n",
    "    def __repr__(self):\n",
    "        return f\"Vector2D<x={self.x},y={self.y}>\"\n",
    "\n",
    "    def __eq__(self, other):\n",
    "        return self.x == other.x and self.y == other.y\n",
    "\n",
    "vector1 = Vector2D(1, 3)\n",
    "vector2 = Vector2D(5, 5)\n",
    "vector3 = Vector2D(1, 3)"
   ]
  },
  {
   "cell_type": "code",
   "execution_count": 23,
   "id": "addbe12e-2cc2-405b-9ca6-317e5362ee98",
   "metadata": {},
   "outputs": [
    {
     "data": {
      "text/plain": [
       "Vector2D<x=6,y=8>"
      ]
     },
     "execution_count": 23,
     "metadata": {},
     "output_type": "execute_result"
    }
   ],
   "source": [
    "vector1 + vector2"
   ]
  },
  {
   "cell_type": "code",
   "execution_count": 24,
   "id": "ab1b327d-5a62-45a3-9e7e-6f7a1a48d2b6",
   "metadata": {},
   "outputs": [
    {
     "name": "stdout",
     "output_type": "stream",
     "text": [
      "Vector2D<x=1,y=3>\n"
     ]
    }
   ],
   "source": [
    "print(vector1)"
   ]
  },
  {
   "cell_type": "code",
   "execution_count": 25,
   "id": "51b98a1c-887c-4cfa-b8d2-7022ce457c49",
   "metadata": {},
   "outputs": [
    {
     "data": {
      "text/plain": [
       "True"
      ]
     },
     "execution_count": 25,
     "metadata": {},
     "output_type": "execute_result"
    }
   ],
   "source": [
    "vector1 == vector3"
   ]
  },
  {
   "cell_type": "code",
   "execution_count": 28,
   "id": "a72c08a3-3604-4664-86b1-c095f36ee108",
   "metadata": {},
   "outputs": [
    {
     "name": "stdout",
     "output_type": "stream",
     "text": [
      "Vector3D<x=6,y=8,z=12>\n",
      "True\n"
     ]
    }
   ],
   "source": [
    "class Vector3D:\n",
    "    def __init__(self, x, y, z):\n",
    "        self.x = x\n",
    "        self.y = y\n",
    "        self.z = z\n",
    "        \n",
    "    def __add__(self, other):\n",
    "        return Vector3D(self.x + other.x, self.y + other.y, self.z + other.z)\n",
    "\n",
    "    def __repr__(self):\n",
    "        return f\"Vector3D<x={self.x},y={self.y},z={self.z}>\"\n",
    "\n",
    "    def __eq__(self, other):\n",
    "        return self.x == other.x and self.y == other.y and self.z == other.z\n",
    "\n",
    "vector1 = Vector3D(1, 3, 6)\n",
    "vector2 = Vector3D(5, 5, 6)\n",
    "vector3 = Vector3D(1, 3, 6)\n",
    "print(vector1 + vector2)\n",
    "print(vector1 == vector3)"
   ]
  },
  {
   "cell_type": "code",
   "execution_count": 30,
   "id": "9cdc5638-a9a4-4319-a3d8-a36b37d0c2ad",
   "metadata": {},
   "outputs": [],
   "source": [
    "from dataclasses import dataclass\n",
    "\n",
    "@dataclass\n",
    "class Vector3DDataClass:\n",
    "    x : int\n",
    "    y : int\n",
    "    z : int"
   ]
  },
  {
   "cell_type": "code",
   "execution_count": 31,
   "id": "1d5ca4d4-c7b5-40c9-be12-4732b5f117c6",
   "metadata": {},
   "outputs": [
    {
     "name": "stdout",
     "output_type": "stream",
     "text": [
      "True\n"
     ]
    }
   ],
   "source": [
    "vector1 = Vector3DDataClass(1, 3, 6)\n",
    "vector2 = Vector3DDataClass(5, 5, 6)\n",
    "vector3 = Vector3DDataClass(1, 3, 6)\n",
    "print(vector1 == vector3)"
   ]
  },
  {
   "cell_type": "code",
   "execution_count": 32,
   "id": "07bfed60-38ca-46fc-b956-3d56aa9aada2",
   "metadata": {},
   "outputs": [
    {
     "name": "stdout",
     "output_type": "stream",
     "text": [
      "Vector3DDataClass(x=1, y=3, z=6)\n"
     ]
    }
   ],
   "source": [
    "print(vector1)"
   ]
  },
  {
   "cell_type": "code",
   "execution_count": 33,
   "id": "a98c5f1d-d25f-4c95-9d96-a64c7579e25e",
   "metadata": {},
   "outputs": [
    {
     "ename": "TypeError",
     "evalue": "unsupported operand type(s) for +: 'Vector3DDataClass' and 'Vector3DDataClass'",
     "output_type": "error",
     "traceback": [
      "\u001b[1;31m---------------------------------------------------------------------------\u001b[0m",
      "\u001b[1;31mTypeError\u001b[0m                                 Traceback (most recent call last)",
      "Cell \u001b[1;32mIn[33], line 1\u001b[0m\n\u001b[1;32m----> 1\u001b[0m \u001b[43mvector1\u001b[49m\u001b[43m \u001b[49m\u001b[38;5;241;43m+\u001b[39;49m\u001b[43m \u001b[49m\u001b[43mvector2\u001b[49m\n",
      "\u001b[1;31mTypeError\u001b[0m: unsupported operand type(s) for +: 'Vector3DDataClass' and 'Vector3DDataClass'"
     ]
    }
   ],
   "source": [
    "vector1 + vector2"
   ]
  },
  {
   "cell_type": "code",
   "execution_count": 40,
   "id": "d683d4c0-c937-4217-abb2-bcebd5a9ef79",
   "metadata": {},
   "outputs": [],
   "source": [
    "@dataclass(frozen = True)\n",
    "class Vector3D_frozen:\n",
    "    x : int\n",
    "    y : int\n",
    "    z : int\n",
    "\n",
    "    def modification_dun_attribut(self):\n",
    "        self.x = 99\n",
    "        \n",
    "\n",
    "vector = Vector3D_frozen(3, 3, 3)"
   ]
  },
  {
   "cell_type": "code",
   "execution_count": 41,
   "id": "116c8579-4b54-4340-968f-08abc3eac6d1",
   "metadata": {},
   "outputs": [
    {
     "ename": "FrozenInstanceError",
     "evalue": "cannot assign to field 'x'",
     "output_type": "error",
     "traceback": [
      "\u001b[1;31m---------------------------------------------------------------------------\u001b[0m",
      "\u001b[1;31mFrozenInstanceError\u001b[0m                       Traceback (most recent call last)",
      "Cell \u001b[1;32mIn[41], line 1\u001b[0m\n\u001b[1;32m----> 1\u001b[0m \u001b[43mvector\u001b[49m\u001b[38;5;241;43m.\u001b[39;49m\u001b[43mmodification_dun_attribut\u001b[49m\u001b[43m(\u001b[49m\u001b[43m)\u001b[49m\n",
      "Cell \u001b[1;32mIn[40], line 8\u001b[0m, in \u001b[0;36mVector3D_frozen.modification_dun_attribut\u001b[1;34m(self)\u001b[0m\n\u001b[0;32m      7\u001b[0m \u001b[38;5;28;01mdef\u001b[39;00m \u001b[38;5;21mmodification_dun_attribut\u001b[39m(\u001b[38;5;28mself\u001b[39m):\n\u001b[1;32m----> 8\u001b[0m     \u001b[38;5;28;43mself\u001b[39;49m\u001b[38;5;241;43m.\u001b[39;49m\u001b[43mx\u001b[49m \u001b[38;5;241m=\u001b[39m \u001b[38;5;241m99\u001b[39m\n",
      "File \u001b[1;32m<string>:4\u001b[0m, in \u001b[0;36m__setattr__\u001b[1;34m(self, name, value)\u001b[0m\n",
      "\u001b[1;31mFrozenInstanceError\u001b[0m: cannot assign to field 'x'"
     ]
    }
   ],
   "source": [
    "vector.modification_dun_attribut()\n"
   ]
  },
  {
   "cell_type": "code",
   "execution_count": 42,
   "id": "79839537-178a-4ff5-bb23-500ca2f8c5ff",
   "metadata": {},
   "outputs": [
    {
     "ename": "FrozenInstanceError",
     "evalue": "cannot assign to field 'x'",
     "output_type": "error",
     "traceback": [
      "\u001b[1;31m---------------------------------------------------------------------------\u001b[0m",
      "\u001b[1;31mFrozenInstanceError\u001b[0m                       Traceback (most recent call last)",
      "Cell \u001b[1;32mIn[42], line 1\u001b[0m\n\u001b[1;32m----> 1\u001b[0m \u001b[43mvector\u001b[49m\u001b[38;5;241;43m.\u001b[39;49m\u001b[43mx\u001b[49m \u001b[38;5;241m=\u001b[39m \u001b[38;5;241m4\u001b[39m\n",
      "File \u001b[1;32m<string>:4\u001b[0m, in \u001b[0;36m__setattr__\u001b[1;34m(self, name, value)\u001b[0m\n",
      "\u001b[1;31mFrozenInstanceError\u001b[0m: cannot assign to field 'x'"
     ]
    }
   ],
   "source": [
    "vector.x = 4"
   ]
  },
  {
   "cell_type": "code",
   "execution_count": 47,
   "id": "36390774-a0cf-4d19-b624-6b334cc48bc4",
   "metadata": {},
   "outputs": [],
   "source": [
    "@dataclass(order = True)\n",
    "class Vector3D_order:\n",
    "    x : int\n",
    "    y : int\n",
    "    z : int\n",
    "vector1 = Vector3D_order(6, 3, 6)\n",
    "vector2 = Vector3D_order(5, 90000, 90000)\n",
    "vector3 = Vector3D_order(1, 3, 6)  \n"
   ]
  },
  {
   "cell_type": "code",
   "execution_count": 48,
   "id": "3b87a562-c8a2-4363-b641-ebb8c7d3b99b",
   "metadata": {},
   "outputs": [
    {
     "data": {
      "text/plain": [
       "False"
      ]
     },
     "execution_count": 48,
     "metadata": {},
     "output_type": "execute_result"
    }
   ],
   "source": [
    "vector1 < vector2"
   ]
  },
  {
   "cell_type": "code",
   "execution_count": 51,
   "id": "460d6a8d-b424-43da-801d-fb1344c173d7",
   "metadata": {},
   "outputs": [
    {
     "name": "stdout",
     "output_type": "stream",
     "text": [
      "Vector3D_dafault(x=6, y=3, z=0)\n"
     ]
    }
   ],
   "source": [
    "@dataclass\n",
    "class Vector3D_dafault:\n",
    "    x : int\n",
    "    y : int\n",
    "    z : int = 0\n",
    "    \n",
    "vector1 = Vector3D_dafault(6, 3)\n",
    "vector2 = Vector3D_dafault(5, 90000)\n",
    "vector3 = Vector3D_dafault(1, 3, 6)  \n",
    "print(vector1)\n"
   ]
  },
  {
   "cell_type": "code",
   "execution_count": 52,
   "id": "0ab6f587-2b3e-4152-afa9-fd0221cc7472",
   "metadata": {},
   "outputs": [
    {
     "ename": "TypeError",
     "evalue": "non-default argument 'x' follows default argument",
     "output_type": "error",
     "traceback": [
      "\u001b[1;31m---------------------------------------------------------------------------\u001b[0m",
      "\u001b[1;31mTypeError\u001b[0m                                 Traceback (most recent call last)",
      "Cell \u001b[1;32mIn[52], line 2\u001b[0m\n\u001b[0;32m      1\u001b[0m \u001b[38;5;66;03m#__init__( z = 0, x, y) -  argument nomanatif à gauche d'arguments posiitionellles\u001b[39;00m\n\u001b[1;32m----> 2\u001b[0m \u001b[38;5;129;43m@dataclass\u001b[39;49m\n\u001b[0;32m      3\u001b[0m \u001b[38;5;28;43;01mclass\u001b[39;49;00m\u001b[43m \u001b[49m\u001b[38;5;21;43;01mVector3D_dafault_erreur\u001b[39;49;00m\u001b[43m:\u001b[49m\n\u001b[0;32m      4\u001b[0m \u001b[43m    \u001b[49m\u001b[43mz\u001b[49m\u001b[43m \u001b[49m\u001b[43m:\u001b[49m\u001b[43m \u001b[49m\u001b[38;5;28;43mint\u001b[39;49m\u001b[43m \u001b[49m\u001b[38;5;241;43m=\u001b[39;49m\u001b[43m \u001b[49m\u001b[38;5;241;43m0\u001b[39;49m\n\u001b[0;32m      5\u001b[0m \u001b[43m    \u001b[49m\u001b[43mx\u001b[49m\u001b[43m \u001b[49m\u001b[43m:\u001b[49m\u001b[43m \u001b[49m\u001b[38;5;28;43mint\u001b[39;49m\n",
      "File \u001b[1;32m~\\AppData\\Local\\Programs\\Python\\Python312\\Lib\\dataclasses.py:1275\u001b[0m, in \u001b[0;36mdataclass\u001b[1;34m(cls, init, repr, eq, order, unsafe_hash, frozen, match_args, kw_only, slots, weakref_slot)\u001b[0m\n\u001b[0;32m   1272\u001b[0m     \u001b[38;5;28;01mreturn\u001b[39;00m wrap\n\u001b[0;32m   1274\u001b[0m \u001b[38;5;66;03m# We're called as @dataclass without parens.\u001b[39;00m\n\u001b[1;32m-> 1275\u001b[0m \u001b[38;5;28;01mreturn\u001b[39;00m \u001b[43mwrap\u001b[49m\u001b[43m(\u001b[49m\u001b[38;5;28;43mcls\u001b[39;49m\u001b[43m)\u001b[49m\n",
      "File \u001b[1;32m~\\AppData\\Local\\Programs\\Python\\Python312\\Lib\\dataclasses.py:1265\u001b[0m, in \u001b[0;36mdataclass.<locals>.wrap\u001b[1;34m(cls)\u001b[0m\n\u001b[0;32m   1264\u001b[0m \u001b[38;5;28;01mdef\u001b[39;00m \u001b[38;5;21mwrap\u001b[39m(\u001b[38;5;28mcls\u001b[39m):\n\u001b[1;32m-> 1265\u001b[0m     \u001b[38;5;28;01mreturn\u001b[39;00m \u001b[43m_process_class\u001b[49m\u001b[43m(\u001b[49m\u001b[38;5;28;43mcls\u001b[39;49m\u001b[43m,\u001b[49m\u001b[43m \u001b[49m\u001b[43minit\u001b[49m\u001b[43m,\u001b[49m\u001b[43m \u001b[49m\u001b[38;5;28;43mrepr\u001b[39;49m\u001b[43m,\u001b[49m\u001b[43m \u001b[49m\u001b[43meq\u001b[49m\u001b[43m,\u001b[49m\u001b[43m \u001b[49m\u001b[43morder\u001b[49m\u001b[43m,\u001b[49m\u001b[43m \u001b[49m\u001b[43munsafe_hash\u001b[49m\u001b[43m,\u001b[49m\n\u001b[0;32m   1266\u001b[0m \u001b[43m                          \u001b[49m\u001b[43mfrozen\u001b[49m\u001b[43m,\u001b[49m\u001b[43m \u001b[49m\u001b[43mmatch_args\u001b[49m\u001b[43m,\u001b[49m\u001b[43m \u001b[49m\u001b[43mkw_only\u001b[49m\u001b[43m,\u001b[49m\u001b[43m \u001b[49m\u001b[43mslots\u001b[49m\u001b[43m,\u001b[49m\n\u001b[0;32m   1267\u001b[0m \u001b[43m                          \u001b[49m\u001b[43mweakref_slot\u001b[49m\u001b[43m)\u001b[49m\n",
      "File \u001b[1;32m~\\AppData\\Local\\Programs\\Python\\Python312\\Lib\\dataclasses.py:1063\u001b[0m, in \u001b[0;36m_process_class\u001b[1;34m(cls, init, repr, eq, order, unsafe_hash, frozen, match_args, kw_only, slots, weakref_slot)\u001b[0m\n\u001b[0;32m   1058\u001b[0m \u001b[38;5;28;01mif\u001b[39;00m init:\n\u001b[0;32m   1059\u001b[0m     \u001b[38;5;66;03m# Does this class have a post-init function?\u001b[39;00m\n\u001b[0;32m   1060\u001b[0m     has_post_init \u001b[38;5;241m=\u001b[39m \u001b[38;5;28mhasattr\u001b[39m(\u001b[38;5;28mcls\u001b[39m, _POST_INIT_NAME)\n\u001b[0;32m   1062\u001b[0m     _set_new_attribute(\u001b[38;5;28mcls\u001b[39m, \u001b[38;5;124m'\u001b[39m\u001b[38;5;124m__init__\u001b[39m\u001b[38;5;124m'\u001b[39m,\n\u001b[1;32m-> 1063\u001b[0m                        \u001b[43m_init_fn\u001b[49m\u001b[43m(\u001b[49m\u001b[43mall_init_fields\u001b[49m\u001b[43m,\u001b[49m\n\u001b[0;32m   1064\u001b[0m \u001b[43m                                \u001b[49m\u001b[43mstd_init_fields\u001b[49m\u001b[43m,\u001b[49m\n\u001b[0;32m   1065\u001b[0m \u001b[43m                                \u001b[49m\u001b[43mkw_only_init_fields\u001b[49m\u001b[43m,\u001b[49m\n\u001b[0;32m   1066\u001b[0m \u001b[43m                                \u001b[49m\u001b[43mfrozen\u001b[49m\u001b[43m,\u001b[49m\n\u001b[0;32m   1067\u001b[0m \u001b[43m                                \u001b[49m\u001b[43mhas_post_init\u001b[49m\u001b[43m,\u001b[49m\n\u001b[0;32m   1068\u001b[0m \u001b[43m                                \u001b[49m\u001b[38;5;66;43;03m# The name to use for the \"self\"\u001b[39;49;00m\n\u001b[0;32m   1069\u001b[0m \u001b[43m                                \u001b[49m\u001b[38;5;66;43;03m# param in __init__.  Use \"self\"\u001b[39;49;00m\n\u001b[0;32m   1070\u001b[0m \u001b[43m                                \u001b[49m\u001b[38;5;66;43;03m# if possible.\u001b[39;49;00m\n\u001b[0;32m   1071\u001b[0m \u001b[43m                                \u001b[49m\u001b[38;5;124;43m'\u001b[39;49m\u001b[38;5;124;43m__dataclass_self__\u001b[39;49m\u001b[38;5;124;43m'\u001b[39;49m\u001b[43m \u001b[49m\u001b[38;5;28;43;01mif\u001b[39;49;00m\u001b[43m \u001b[49m\u001b[38;5;124;43m'\u001b[39;49m\u001b[38;5;124;43mself\u001b[39;49m\u001b[38;5;124;43m'\u001b[39;49m\u001b[43m \u001b[49m\u001b[38;5;129;43;01min\u001b[39;49;00m\u001b[43m \u001b[49m\u001b[43mfields\u001b[49m\n\u001b[0;32m   1072\u001b[0m \u001b[43m                                        \u001b[49m\u001b[38;5;28;43;01melse\u001b[39;49;00m\u001b[43m \u001b[49m\u001b[38;5;124;43m'\u001b[39;49m\u001b[38;5;124;43mself\u001b[39;49m\u001b[38;5;124;43m'\u001b[39;49m\u001b[43m,\u001b[49m\n\u001b[0;32m   1073\u001b[0m \u001b[43m                                \u001b[49m\u001b[38;5;28;43mglobals\u001b[39;49m\u001b[43m,\u001b[49m\n\u001b[0;32m   1074\u001b[0m \u001b[43m                                \u001b[49m\u001b[43mslots\u001b[49m\u001b[43m,\u001b[49m\n\u001b[0;32m   1075\u001b[0m \u001b[43m                      \u001b[49m\u001b[43m)\u001b[49m)\n\u001b[0;32m   1077\u001b[0m \u001b[38;5;66;03m# Get the fields as a list, and include only real fields.  This is\u001b[39;00m\n\u001b[0;32m   1078\u001b[0m \u001b[38;5;66;03m# used in all of the following methods.\u001b[39;00m\n\u001b[0;32m   1079\u001b[0m field_list \u001b[38;5;241m=\u001b[39m [f \u001b[38;5;28;01mfor\u001b[39;00m f \u001b[38;5;129;01min\u001b[39;00m fields\u001b[38;5;241m.\u001b[39mvalues() \u001b[38;5;28;01mif\u001b[39;00m f\u001b[38;5;241m.\u001b[39m_field_type \u001b[38;5;129;01mis\u001b[39;00m _FIELD]\n",
      "File \u001b[1;32m~\\AppData\\Local\\Programs\\Python\\Python312\\Lib\\dataclasses.py:585\u001b[0m, in \u001b[0;36m_init_fn\u001b[1;34m(fields, std_fields, kw_only_fields, frozen, has_post_init, self_name, globals, slots)\u001b[0m\n\u001b[0;32m    583\u001b[0m             seen_default \u001b[38;5;241m=\u001b[39m \u001b[38;5;28;01mTrue\u001b[39;00m\n\u001b[0;32m    584\u001b[0m         \u001b[38;5;28;01melif\u001b[39;00m seen_default:\n\u001b[1;32m--> 585\u001b[0m             \u001b[38;5;28;01mraise\u001b[39;00m \u001b[38;5;167;01mTypeError\u001b[39;00m(\u001b[38;5;124mf\u001b[39m\u001b[38;5;124m'\u001b[39m\u001b[38;5;124mnon-default argument \u001b[39m\u001b[38;5;132;01m{\u001b[39;00mf\u001b[38;5;241m.\u001b[39mname\u001b[38;5;132;01m!r}\u001b[39;00m\u001b[38;5;124m \u001b[39m\u001b[38;5;124m'\u001b[39m\n\u001b[0;32m    586\u001b[0m                             \u001b[38;5;124m'\u001b[39m\u001b[38;5;124mfollows default argument\u001b[39m\u001b[38;5;124m'\u001b[39m)\n\u001b[0;32m    588\u001b[0m \u001b[38;5;28mlocals\u001b[39m \u001b[38;5;241m=\u001b[39m {\u001b[38;5;124mf\u001b[39m\u001b[38;5;124m'\u001b[39m\u001b[38;5;124m__dataclass_type_\u001b[39m\u001b[38;5;132;01m{\u001b[39;00mf\u001b[38;5;241m.\u001b[39mname\u001b[38;5;132;01m}\u001b[39;00m\u001b[38;5;124m__\u001b[39m\u001b[38;5;124m'\u001b[39m: f\u001b[38;5;241m.\u001b[39mtype \u001b[38;5;28;01mfor\u001b[39;00m f \u001b[38;5;129;01min\u001b[39;00m fields}\n\u001b[0;32m    589\u001b[0m \u001b[38;5;28mlocals\u001b[39m\u001b[38;5;241m.\u001b[39mupdate({\n\u001b[0;32m    590\u001b[0m     \u001b[38;5;124m'\u001b[39m\u001b[38;5;124m__dataclass_HAS_DEFAULT_FACTORY__\u001b[39m\u001b[38;5;124m'\u001b[39m: _HAS_DEFAULT_FACTORY,\n\u001b[0;32m    591\u001b[0m     \u001b[38;5;124m'\u001b[39m\u001b[38;5;124m__dataclass_builtins_object__\u001b[39m\u001b[38;5;124m'\u001b[39m: \u001b[38;5;28mobject\u001b[39m,\n\u001b[0;32m    592\u001b[0m })\n",
      "\u001b[1;31mTypeError\u001b[0m: non-default argument 'x' follows default argument"
     ]
    }
   ],
   "source": [
    "#__init__( z = 0, x, y) -  argument nomanatif à gauche d'arguments posiitionellles\n",
    "@dataclass\n",
    "class Vector3D_dafault_erreur:\n",
    "    z : int = 0\n",
    "    x : int\n",
    "    y : int\n",
    "    \n",
    "    \n",
    "vector1 = Vector3D_dafault_erreur(6, 3)\n",
    "print(vector1)\n"
   ]
  },
  {
   "cell_type": "code",
   "execution_count": 64,
   "id": "a461e20e-3866-4838-ad96-bf3523b88829",
   "metadata": {},
   "outputs": [],
   "source": [
    "@dataclass\n",
    "class Librairie:\n",
    "    liste_livre = []\n",
    "\n",
    "librarie_1 = Librairie()"
   ]
  },
  {
   "cell_type": "code",
   "execution_count": 65,
   "id": "591cc5f2-6053-490a-b06a-e9b8eaed1ebc",
   "metadata": {},
   "outputs": [],
   "source": [
    "librarie_1.liste_livre.append(\"Le Petit Prince\")"
   ]
  },
  {
   "cell_type": "code",
   "execution_count": 66,
   "id": "edfd0bd0-f332-4093-baf3-600e9e4160c1",
   "metadata": {},
   "outputs": [
    {
     "name": "stdout",
     "output_type": "stream",
     "text": [
      "['Le Petit Prince']\n"
     ]
    }
   ],
   "source": [
    "print(librarie_1.liste_livre)"
   ]
  },
  {
   "cell_type": "code",
   "execution_count": 67,
   "id": "affebcc6-fdee-4541-ac5e-895cc6dbfd02",
   "metadata": {},
   "outputs": [],
   "source": [
    "librairie_2 = Librairie()\n",
    "librairie_2.liste_livre.append(\"Kapital\")\n"
   ]
  },
  {
   "cell_type": "code",
   "execution_count": 68,
   "id": "b1e42a3e-14a5-4085-97a1-7c662f58dd92",
   "metadata": {},
   "outputs": [
    {
     "name": "stdout",
     "output_type": "stream",
     "text": [
      "['Le Petit Prince', 'Kapital']\n"
     ]
    }
   ],
   "source": [
    "print(librairie_2.liste_livre)"
   ]
  },
  {
   "cell_type": "code",
   "execution_count": 71,
   "id": "f007f57b-2388-4614-a0e5-b2686c39517d",
   "metadata": {},
   "outputs": [],
   "source": [
    "from dataclasses import field\n",
    "@dataclass\n",
    "class LibrairieCorrige:\n",
    "    liste_livre : list = field(default_factory = list)\n"
   ]
  },
  {
   "cell_type": "code",
   "execution_count": 72,
   "id": "75ca2660-d2bb-4bb3-9f8f-dc66c8f9d0da",
   "metadata": {},
   "outputs": [
    {
     "name": "stdout",
     "output_type": "stream",
     "text": [
      "['Le Petit Prince']\n",
      "['Kapital']\n"
     ]
    }
   ],
   "source": [
    "librarie_1 = LibrairieCorrige()\n",
    "librarie_1.liste_livre.append(\"Le Petit Prince\")\n",
    "print(librarie_1.liste_livre)\n",
    "librairie_2 = LibrairieCorrige()\n",
    "librairie_2.liste_livre.append(\"Kapital\")\n",
    "print(librairie_2.liste_livre)\n"
   ]
  },
  {
   "cell_type": "code",
   "execution_count": 81,
   "id": "9cd40099-f974-4a20-8ce5-2c05214c6ba5",
   "metadata": {},
   "outputs": [
    {
     "name": "stdout",
     "output_type": "stream",
     "text": [
      "True\n"
     ]
    }
   ],
   "source": [
    "#init\n",
    "@dataclass\n",
    "class Eleve:\n",
    "    note : int \n",
    "    bacaulaureat : bool = field(init = False)\n",
    "\n",
    "    def __post_init__(self):\n",
    "        self.bacaulaureat = (self.note >= 10)\n",
    "\n",
    "eleve1 = Eleve(13)\n",
    "    \n",
    "print(eleve1.bacaulaureat)\n"
   ]
  },
  {
   "cell_type": "code",
   "execution_count": 86,
   "id": "9bcb6ed6-062a-430c-9a60-197414a1eaef",
   "metadata": {},
   "outputs": [
    {
     "name": "stdout",
     "output_type": "stream",
     "text": [
      "True\n",
      "Produit(nom='Produit A')\n"
     ]
    }
   ],
   "source": [
    "@dataclass(order=True)\n",
    "class Produit:\n",
    "    prix: float = field(compare=True, repr=False)\n",
    "    nom: str\n",
    "    \n",
    "p1 = Produit(prix=20.0, nom=\"Produit A\")\n",
    "p2 = Produit(prix=15.0, nom=\"Produit B\")\n",
    "\n",
    "print(p1 > p2) #False \"A\" > \"B\"\n",
    "print(p1) #Produit(nom='Produit A')"
   ]
  },
  {
   "cell_type": "code",
   "execution_count": 101,
   "id": "063733cc-c124-4eaa-a42a-aa8e9968d6c8",
   "metadata": {},
   "outputs": [
    {
     "name": "stdout",
     "output_type": "stream",
     "text": [
      "Produit(nom='Produit A', categorie='Électronique', quantite_stock=0)\n",
      "True\n",
      "False\n"
     ]
    }
   ],
   "source": [
    "#coorection exercice\n",
    "@dataclass(order = True)\n",
    "class Produit:\n",
    "    nom : str = field(compare = False)\n",
    "    prix : float = field(repr = False)\n",
    "    categorie : str\n",
    "    quantite_stock : int = field(init = False, default = 0)\n",
    "\n",
    "    #def __post_init__(self):\n",
    "        #self.quantite_stock = 0\n",
    "        \n",
    "produit1 = Produit(\"Produit A\", 20.0, \"Électronique\")\n",
    "produit2 = Produit(\"Produit B\", 10.0, \"Maison\")\n",
    "produit3 = Produit(\"Produit A\", 20.0, \"Électronique\")\n",
    "\n",
    "print(produit1)\n",
    "print(produit1 == produit3)\n",
    "print(produit1 < produit2)"
   ]
  },
  {
   "cell_type": "code",
   "execution_count": null,
   "id": "b260f8f3-0756-47f1-a3ca-b9497acb70e1",
   "metadata": {},
   "outputs": [],
   "source": [
    "<"
   ]
  }
 ],
 "metadata": {
  "kernelspec": {
   "display_name": "Python 3 (ipykernel)",
   "language": "python",
   "name": "python3"
  },
  "language_info": {
   "codemirror_mode": {
    "name": "ipython",
    "version": 3
   },
   "file_extension": ".py",
   "mimetype": "text/x-python",
   "name": "python",
   "nbconvert_exporter": "python",
   "pygments_lexer": "ipython3",
   "version": "3.12.7"
  }
 },
 "nbformat": 4,
 "nbformat_minor": 5
}
