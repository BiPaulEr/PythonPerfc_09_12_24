{
 "cells": [
  {
   "cell_type": "code",
   "execution_count": 1,
   "id": "f2a0425d-9b08-4b80-a0d0-766dd73bc2c8",
   "metadata": {},
   "outputs": [
    {
     "name": "stdout",
     "output_type": "stream",
     "text": [
      "{'__module__': '__main__', 'y': 5, '__dict__': <attribute '__dict__' of 'MyClass' objects>, '__weakref__': <attribute '__weakref__' of 'MyClass' objects>, '__doc__': None}\n"
     ]
    }
   ],
   "source": [
    "class MyClass:\n",
    "    y = 5\n",
    "print(MyClass.__dict__)"
   ]
  },
  {
   "cell_type": "code",
   "execution_count": 2,
   "id": "9390dfc9-7caf-4105-badc-bc44fe304a07",
   "metadata": {},
   "outputs": [
    {
     "name": "stdout",
     "output_type": "stream",
     "text": [
      "{}\n"
     ]
    }
   ],
   "source": [
    "m = MyClass()\n",
    "print(m.__dict__)"
   ]
  },
  {
   "cell_type": "code",
   "execution_count": 3,
   "id": "65a74168-eb35-4237-94f8-82c198c1ab48",
   "metadata": {},
   "outputs": [
    {
     "name": "stdout",
     "output_type": "stream",
     "text": [
      "5\n"
     ]
    }
   ],
   "source": [
    "print(m.y)"
   ]
  },
  {
   "cell_type": "code",
   "execution_count": 4,
   "id": "6a033490-0226-455f-87d9-76127bbda764",
   "metadata": {},
   "outputs": [
    {
     "name": "stdout",
     "output_type": "stream",
     "text": [
      "5\n"
     ]
    }
   ],
   "source": [
    "m2 = MyClass()\n",
    "print(m2.y)"
   ]
  },
  {
   "cell_type": "code",
   "execution_count": 5,
   "id": "0c4d4ffa-6b90-4ac3-a434-09d1bc722a58",
   "metadata": {},
   "outputs": [
    {
     "name": "stdout",
     "output_type": "stream",
     "text": [
      "{'y': 8}\n"
     ]
    }
   ],
   "source": [
    "m.y = 8\n",
    "print(m.__dict__)"
   ]
  },
  {
   "cell_type": "code",
   "execution_count": 6,
   "id": "c90ffc58-d946-4bd5-94e2-dcd1b82b06e4",
   "metadata": {},
   "outputs": [
    {
     "name": "stdout",
     "output_type": "stream",
     "text": [
      "8\n"
     ]
    }
   ],
   "source": [
    "print(m.y)"
   ]
  },
  {
   "cell_type": "code",
   "execution_count": 7,
   "id": "fdc70568-b785-4861-ac41-5d134f3e7d7d",
   "metadata": {},
   "outputs": [
    {
     "ename": "AttributeError",
     "evalue": "'MyClass' object has no attribute 'y_qui_nexiste_pas'",
     "output_type": "error",
     "traceback": [
      "\u001b[1;31m---------------------------------------------------------------------------\u001b[0m",
      "\u001b[1;31mAttributeError\u001b[0m                            Traceback (most recent call last)",
      "Cell \u001b[1;32mIn[7], line 1\u001b[0m\n\u001b[1;32m----> 1\u001b[0m \u001b[43mm\u001b[49m\u001b[38;5;241;43m.\u001b[39;49m\u001b[43my_qui_nexiste_pas\u001b[49m\n",
      "\u001b[1;31mAttributeError\u001b[0m: 'MyClass' object has no attribute 'y_qui_nexiste_pas'"
     ]
    }
   ],
   "source": [
    "m.y_qui_nexiste_pas"
   ]
  },
  {
   "cell_type": "code",
   "execution_count": 8,
   "id": "cf93a87f-c138-4e12-bb0c-ed1e4df44992",
   "metadata": {},
   "outputs": [],
   "source": [
    "class DataDescriptors:\n",
    "    def __init__(self, value):\n",
    "        self.value = value\n",
    "    def __get__(self, obj, objtype):\n",
    "        print(\"get\")\n",
    "        print(obj)\n",
    "        print(objtype)\n",
    "        return self.value\n",
    "        \n",
    "    def __set__(self, obj, val):\n",
    "        print(\"set\")\n",
    "        print(obj)\n",
    "        print(val)\n",
    "        self.value = val\n",
    "    \n",
    "        \n",
    "class MyClass:\n",
    "    y = DataDescriptors(\"C'est la vlaeur du DataDescriptors\")"
   ]
  },
  {
   "cell_type": "code",
   "execution_count": 10,
   "id": "67cca3c5-2d77-43a4-a8f9-a639a6d4f7c8",
   "metadata": {},
   "outputs": [
    {
     "name": "stdout",
     "output_type": "stream",
     "text": [
      "{'__module__': '__main__', 'y': <__main__.DataDescriptors object at 0x00000195BA522780>, '__dict__': <attribute '__dict__' of 'MyClass' objects>, '__weakref__': <attribute '__weakref__' of 'MyClass' objects>, '__doc__': None}\n"
     ]
    }
   ],
   "source": [
    "print(MyClass.__dict__)"
   ]
  },
  {
   "cell_type": "code",
   "execution_count": 12,
   "id": "b2d01a8b-9577-4342-9b41-ba3e03b9dc1b",
   "metadata": {},
   "outputs": [],
   "source": [
    "m = MyClass()"
   ]
  },
  {
   "cell_type": "code",
   "execution_count": 13,
   "id": "516c4c01-598b-4088-9138-af5c6ec1b64a",
   "metadata": {},
   "outputs": [
    {
     "name": "stdout",
     "output_type": "stream",
     "text": [
      "get\n",
      "<__main__.MyClass object at 0x00000195BA5234D0>\n",
      "<class '__main__.MyClass'>\n"
     ]
    },
    {
     "data": {
      "text/plain": [
       "\"C'est la vlaeur du DataDescriptors\""
      ]
     },
     "execution_count": 13,
     "metadata": {},
     "output_type": "execute_result"
    }
   ],
   "source": [
    "m.y"
   ]
  },
  {
   "cell_type": "code",
   "execution_count": 14,
   "id": "98ab2d9f-12c1-4da6-8da9-09392935b40a",
   "metadata": {},
   "outputs": [
    {
     "name": "stdout",
     "output_type": "stream",
     "text": [
      "set\n",
      "<__main__.MyClass object at 0x00000195BA5234D0>\n",
      "8\n"
     ]
    }
   ],
   "source": [
    "m.y = 8\n"
   ]
  },
  {
   "cell_type": "code",
   "execution_count": 15,
   "id": "e9ce5306-1732-47da-a8b9-f4b0c31848fd",
   "metadata": {},
   "outputs": [
    {
     "name": "stdout",
     "output_type": "stream",
     "text": [
      "{}\n"
     ]
    }
   ],
   "source": [
    "print(m.__dict__)"
   ]
  },
  {
   "cell_type": "code",
   "execution_count": 30,
   "id": "eecbca6a-3dd6-4613-84e6-6e29020ce6cd",
   "metadata": {},
   "outputs": [],
   "source": [
    "class LazyProperty:\n",
    "    def __init__(self, function):\n",
    "        self.function = function\n",
    "        self.value = None\n",
    "        \n",
    "    def __get__(self, obj, objtype):\n",
    "        print(\"get\")\n",
    "        if (self.value is None):\n",
    "            print(\"calculate value\")\n",
    "            self.value = self.function(obj)\n",
    "        return self.value\n",
    "        \n",
    "    def __set__(self, obj, val):\n",
    "        raise ValueError(\"Not possible read only\")\n",
    "\n",
    "class Circle:\n",
    "    radius = 12\n",
    "    perimeter = LazyProperty(lambda self: self.radius * 3.14 * 2)\n",
    "\n",
    "        \n",
    "c = Circle()"
   ]
  },
  {
   "cell_type": "code",
   "execution_count": 47,
   "id": "bf5b24d4-7a84-4296-a061-00882b4dc0ea",
   "metadata": {},
   "outputs": [
    {
     "name": "stdout",
     "output_type": "stream",
     "text": [
      "75.36\n",
      "-62800.0\n"
     ]
    }
   ],
   "source": [
    "class Property:\n",
    "    def __init__(self, function):\n",
    "        self.function = function\n",
    "        \n",
    "    def __get__(self, obj, objtype):\n",
    "        return self.function(obj)\n",
    "        \n",
    "    def __set__(self, obj, val):\n",
    "        raise ValueError(\"Not possible read only\")\n",
    "\n",
    "class Circle:\n",
    "    radius = 12\n",
    "    perimeter = Property(lambda self: self.radius * 3.14 * 2)\n",
    "\n",
    "        \n",
    "c = Circle()\n",
    "print(c.perimeter)\n",
    "c.radius = -10000\n",
    "print(c.perimeter)"
   ]
  },
  {
   "cell_type": "code",
   "execution_count": 31,
   "id": "21585d3c-3404-4218-95b4-aa4ed862cf3b",
   "metadata": {},
   "outputs": [
    {
     "name": "stdout",
     "output_type": "stream",
     "text": [
      "{'__module__': '__main__', 'radius': 12, 'perimeter': <__main__.LazyProperty object at 0x00000195BA69B2F0>, '__dict__': <attribute '__dict__' of 'Circle' objects>, '__weakref__': <attribute '__weakref__' of 'Circle' objects>, '__doc__': None}\n"
     ]
    }
   ],
   "source": [
    "print(Circle.__dict__)"
   ]
  },
  {
   "cell_type": "code",
   "execution_count": 32,
   "id": "1f0a2600-38b1-49e4-91ec-f4c1c0bc7c5f",
   "metadata": {},
   "outputs": [
    {
     "name": "stdout",
     "output_type": "stream",
     "text": [
      "get\n",
      "calculate value\n"
     ]
    },
    {
     "data": {
      "text/plain": [
       "75.36"
      ]
     },
     "execution_count": 32,
     "metadata": {},
     "output_type": "execute_result"
    }
   ],
   "source": [
    "c.perimeter"
   ]
  },
  {
   "cell_type": "code",
   "execution_count": 33,
   "id": "6a305671-72b2-4241-90fa-5a8d1fcd780d",
   "metadata": {},
   "outputs": [
    {
     "name": "stdout",
     "output_type": "stream",
     "text": [
      "get\n"
     ]
    },
    {
     "data": {
      "text/plain": [
       "75.36"
      ]
     },
     "execution_count": 33,
     "metadata": {},
     "output_type": "execute_result"
    }
   ],
   "source": [
    "c.perimeter"
   ]
  },
  {
   "cell_type": "code",
   "execution_count": 34,
   "id": "ddcd19ef-33c9-44e8-9c4f-f0d8d2ad862a",
   "metadata": {},
   "outputs": [],
   "source": [
    "c2 = Circle()\n",
    "c2.radius  = -980"
   ]
  },
  {
   "cell_type": "code",
   "execution_count": 35,
   "id": "7ea4e7c6-e46c-4642-9b43-dc686a6df008",
   "metadata": {},
   "outputs": [
    {
     "name": "stdout",
     "output_type": "stream",
     "text": [
      "get\n"
     ]
    },
    {
     "data": {
      "text/plain": [
       "75.36"
      ]
     },
     "execution_count": 35,
     "metadata": {},
     "output_type": "execute_result"
    }
   ],
   "source": [
    "c2.perimeter"
   ]
  },
  {
   "cell_type": "code",
   "execution_count": 45,
   "id": "bd62d9fd-4969-4601-9bf4-66e749211376",
   "metadata": {},
   "outputs": [
    {
     "name": "stdout",
     "output_type": "stream",
     "text": [
      "get\n"
     ]
    },
    {
     "data": {
      "text/plain": [
       "'MARTIN'"
      ]
     },
     "execution_count": 45,
     "metadata": {},
     "output_type": "execute_result"
    }
   ],
   "source": [
    "class ReadOnly:\n",
    "    def __init__(self, name):\n",
    "        self.name = name\n",
    "     \n",
    "    def __get__(self, obj, objtype):\n",
    "        print(\"get\")\n",
    "        result = getattr(obj, self.name)\n",
    "        return result\n",
    "    \n",
    "    def __set__(self, obj, val):\n",
    "        raise Exception(\"READ ONLY WHAT ARE TOU DOING\")\n",
    "\n",
    "class User:\n",
    "    name = ReadOnly(\"name_cache\")\n",
    "    def __init__(self, name):\n",
    "        self.name_cache = name\n",
    "u = User(\"MARTIN\")\n",
    "u.name\n",
    "#u.name = \"Dupont\""
   ]
  },
  {
   "cell_type": "code",
   "execution_count": 41,
   "id": "9f7b6da8-fd4a-4ae3-8306-f303e6dad0bb",
   "metadata": {},
   "outputs": [
    {
     "data": {
      "text/plain": [
       "'Dupont'"
      ]
     },
     "execution_count": 41,
     "metadata": {},
     "output_type": "execute_result"
    }
   ],
   "source": [
    "u.name"
   ]
  },
  {
   "cell_type": "code",
   "execution_count": 62,
   "id": "14de286e-8fe9-4a21-b6bf-f6d763a25420",
   "metadata": {},
   "outputs": [
    {
     "name": "stdout",
     "output_type": "stream",
     "text": [
      "12\n",
      "NON\n",
      "12\n"
     ]
    }
   ],
   "source": [
    "class Circle:\n",
    "    def __init__(self, radius):\n",
    "            self._radius = radius\n",
    "        \n",
    "    @property\n",
    "    def perimeter(self):\n",
    "        return self.radius * 2 * 3.14\n",
    "\n",
    "    @perimeter.setter\n",
    "    def perimeter(self, value):\n",
    "        raise Exception(\"NON\")\n",
    "  \n",
    "        \n",
    "    @property\n",
    "    def radius(self):\n",
    "        return self._radius\n",
    "    @radius.setter\n",
    "    def radius(self, value):\n",
    "        if value < 0:\n",
    "            print(\"NON\")\n",
    "        else:\n",
    "            self._radius = radius\n",
    "\n",
    "\n",
    "c = Circle(12)\n",
    "c.perimeter\n",
    "print(c.radius)\n",
    "c.radius = -1\n",
    "print(c.radius)\n",
    "#c.perimeter = 5\n",
    "\n",
    "   "
   ]
  },
  {
   "cell_type": "code",
   "execution_count": 58,
   "id": "9cdb4213-f066-4995-acab-ea2fc0d66758",
   "metadata": {},
   "outputs": [],
   "source": [
    "import time\n",
    "class ExLasyProperty:\n",
    "    def __init__(self, function):\n",
    "        self.function = function\n",
    "        self.__value = None\n",
    "\n",
    "    @property\n",
    "    def lazy(self):\n",
    "        if self.__value is None:\n",
    "            self.__value = self.function()\n",
    "        return self.__value\n",
    "    \n",
    "def function_lente():\n",
    "    time.sleep(5)\n",
    "    return \"OK\"\n",
    "\n",
    "        "
   ]
  },
  {
   "cell_type": "code",
   "execution_count": 59,
   "id": "07f26662-b9bb-491f-a2e9-09510838f48e",
   "metadata": {},
   "outputs": [],
   "source": [
    "ex = ExLasyProperty(function_lente)\n"
   ]
  },
  {
   "cell_type": "code",
   "execution_count": 60,
   "id": "2841bc34-7283-4885-846e-a068dbe78ba5",
   "metadata": {},
   "outputs": [
    {
     "data": {
      "text/plain": [
       "'OK'"
      ]
     },
     "execution_count": 60,
     "metadata": {},
     "output_type": "execute_result"
    }
   ],
   "source": [
    "ex.lazy"
   ]
  },
  {
   "cell_type": "code",
   "execution_count": 61,
   "id": "73166776-7c23-4e66-ae6e-d7f1d603adda",
   "metadata": {},
   "outputs": [
    {
     "data": {
      "text/plain": [
       "'OK'"
      ]
     },
     "execution_count": 61,
     "metadata": {},
     "output_type": "execute_result"
    }
   ],
   "source": [
    "ex.lazy"
   ]
  },
  {
   "cell_type": "code",
   "execution_count": 71,
   "id": "fec2139d-cb29-4912-a1da-a2a64de521a7",
   "metadata": {},
   "outputs": [],
   "source": [
    "#correction Pyramide\n",
    "from math import sqrt\n",
    "class Pyramide:\n",
    "    def __init__(self, longueur_base, hauteur):\n",
    "        self.__longueur_base = longueur_base\n",
    "        self.__hauteur = hauteur\n",
    "        \n",
    "    @property\n",
    "    def perimeter(self):\n",
    "        return 4 * self.longueur_base + 4 * sqrt( (sqrt(2) * self.longueur_base ** 2 / 2) + self.hauteur**2)\n",
    "    @perimeter.setter\n",
    "    def perimeter(self, value):\n",
    "        raise AttributeError(\"Access Denied\")\n",
    "\n",
    "    @property\n",
    "    def volume(self):\n",
    "        return (1 / 3.0) * self.longueur_base ** 2 * self.hauteur\n",
    "    @volume.setter\n",
    "    def volume(self, value):\n",
    "        raise AttributeError(\"Access Denied\")\n",
    "\n",
    "    @property\n",
    "    def aire_base(self):\n",
    "        return self.longueur_base ** 2 \n",
    "    @aire_base.setter\n",
    "    def aire_base(self, value):\n",
    "        raise AttributeError(\"Access Denied\")\n",
    "\n",
    "    @property\n",
    "    def longueur_base(self):\n",
    "        return self.__longueur_base\n",
    "    @longueur_base.setter\n",
    "    def longueur_base(self, value):\n",
    "        if value <= 0:\n",
    "            raise ValueError(\"valeur negative\")\n",
    "        self.__longueur_base = value\n",
    "\n",
    "    @property\n",
    "    def hauteur(self):\n",
    "        return self.__hauteur\n",
    "    @hauteur.setter\n",
    "    def hauteur(self, value):\n",
    "        if value <= 0:\n",
    "            raise ValueError(\"valeur negative\")\n",
    "        self.__hauteur = value\n",
    "\n",
    "\n",
    "\n",
    "\n",
    "pyramide = Pyramide( 4, 12)\n"
   ]
  },
  {
   "cell_type": "code",
   "execution_count": 72,
   "id": "7bee751c-dfc1-4c64-8c6c-1795ce8e6794",
   "metadata": {},
   "outputs": [
    {
     "data": {
      "text/plain": [
       "65.84996826462135"
      ]
     },
     "execution_count": 72,
     "metadata": {},
     "output_type": "execute_result"
    }
   ],
   "source": [
    "pyramide.perimeter"
   ]
  },
  {
   "cell_type": "code",
   "execution_count": 73,
   "id": "aad440d6-85e7-4ac7-a03d-44ac55b0dd6c",
   "metadata": {},
   "outputs": [
    {
     "ename": "AttributeError",
     "evalue": "Access Denied",
     "output_type": "error",
     "traceback": [
      "\u001b[1;31m---------------------------------------------------------------------------\u001b[0m",
      "\u001b[1;31mAttributeError\u001b[0m                            Traceback (most recent call last)",
      "Cell \u001b[1;32mIn[73], line 1\u001b[0m\n\u001b[1;32m----> 1\u001b[0m \u001b[43mpyramide\u001b[49m\u001b[38;5;241;43m.\u001b[39;49m\u001b[43mperimeter\u001b[49m \u001b[38;5;241m=\u001b[39m \u001b[38;5;241m4\u001b[39m\n",
      "Cell \u001b[1;32mIn[71], line 13\u001b[0m, in \u001b[0;36mPyramide.perimeter\u001b[1;34m(self, value)\u001b[0m\n\u001b[0;32m     11\u001b[0m \u001b[38;5;129m@perimeter\u001b[39m\u001b[38;5;241m.\u001b[39msetter\n\u001b[0;32m     12\u001b[0m \u001b[38;5;28;01mdef\u001b[39;00m \u001b[38;5;21mperimeter\u001b[39m(\u001b[38;5;28mself\u001b[39m, value):\n\u001b[1;32m---> 13\u001b[0m     \u001b[38;5;28;01mraise\u001b[39;00m \u001b[38;5;167;01mAttributeError\u001b[39;00m(\u001b[38;5;124m\"\u001b[39m\u001b[38;5;124mAccess Denied\u001b[39m\u001b[38;5;124m\"\u001b[39m)\n",
      "\u001b[1;31mAttributeError\u001b[0m: Access Denied"
     ]
    }
   ],
   "source": [
    "pyramide.perimeter = 4"
   ]
  },
  {
   "cell_type": "code",
   "execution_count": 74,
   "id": "959314c6-fdf5-4cbe-b8dd-a9234f9d147a",
   "metadata": {},
   "outputs": [
    {
     "ename": "ValueError",
     "evalue": "valeur negative",
     "output_type": "error",
     "traceback": [
      "\u001b[1;31m---------------------------------------------------------------------------\u001b[0m",
      "\u001b[1;31mValueError\u001b[0m                                Traceback (most recent call last)",
      "Cell \u001b[1;32mIn[74], line 1\u001b[0m\n\u001b[1;32m----> 1\u001b[0m \u001b[43mpyramide\u001b[49m\u001b[38;5;241;43m.\u001b[39;49m\u001b[43mhauteur\u001b[49m \u001b[38;5;241m=\u001b[39m \u001b[38;5;241m-\u001b[39m\u001b[38;5;241m12\u001b[39m\n",
      "Cell \u001b[1;32mIn[71], line 44\u001b[0m, in \u001b[0;36mPyramide.hauteur\u001b[1;34m(self, value)\u001b[0m\n\u001b[0;32m     41\u001b[0m \u001b[38;5;129m@hauteur\u001b[39m\u001b[38;5;241m.\u001b[39msetter\n\u001b[0;32m     42\u001b[0m \u001b[38;5;28;01mdef\u001b[39;00m \u001b[38;5;21mhauteur\u001b[39m(\u001b[38;5;28mself\u001b[39m, value):\n\u001b[0;32m     43\u001b[0m     \u001b[38;5;28;01mif\u001b[39;00m value \u001b[38;5;241m<\u001b[39m\u001b[38;5;241m=\u001b[39m \u001b[38;5;241m0\u001b[39m:\n\u001b[1;32m---> 44\u001b[0m         \u001b[38;5;28;01mraise\u001b[39;00m \u001b[38;5;167;01mValueError\u001b[39;00m(\u001b[38;5;124m\"\u001b[39m\u001b[38;5;124mvaleur negative\u001b[39m\u001b[38;5;124m\"\u001b[39m)\n\u001b[0;32m     45\u001b[0m     \u001b[38;5;28mself\u001b[39m\u001b[38;5;241m.\u001b[39m__hauteur \u001b[38;5;241m=\u001b[39m value\n",
      "\u001b[1;31mValueError\u001b[0m: valeur negative"
     ]
    }
   ],
   "source": [
    "pyramide.hauteur = -12"
   ]
  },
  {
   "cell_type": "code",
   "execution_count": 75,
   "id": "c5087494-1d6a-499f-8982-580edab810b0",
   "metadata": {},
   "outputs": [
    {
     "ename": "AttributeError",
     "evalue": "'Pyramide' object has no attribute '__hauteur'",
     "output_type": "error",
     "traceback": [
      "\u001b[1;31m---------------------------------------------------------------------------\u001b[0m",
      "\u001b[1;31mAttributeError\u001b[0m                            Traceback (most recent call last)",
      "Cell \u001b[1;32mIn[75], line 1\u001b[0m\n\u001b[1;32m----> 1\u001b[0m \u001b[43mpyramide\u001b[49m\u001b[38;5;241;43m.\u001b[39;49m\u001b[43m__hauteur\u001b[49m\n",
      "\u001b[1;31mAttributeError\u001b[0m: 'Pyramide' object has no attribute '__hauteur'"
     ]
    }
   ],
   "source": [
    "pyramide.__hauteur "
   ]
  },
  {
   "cell_type": "code",
   "execution_count": 76,
   "id": "9682cb43-431b-4f9a-82de-6f9a40e4ad10",
   "metadata": {},
   "outputs": [
    {
     "data": {
      "text/plain": [
       "12"
      ]
     },
     "execution_count": 76,
     "metadata": {},
     "output_type": "execute_result"
    }
   ],
   "source": [
    "pyramide._Pyramide__hauteur"
   ]
  },
  {
   "cell_type": "code",
   "execution_count": 77,
   "id": "2814384f-36cd-4631-bf07-986b31f88980",
   "metadata": {},
   "outputs": [],
   "source": [
    "pyramide._Pyramide__hauteur = -1000000000000000"
   ]
  },
  {
   "cell_type": "code",
   "execution_count": 79,
   "id": "b78c6b1f-344e-4c4a-aedd-bca8b4403f0d",
   "metadata": {},
   "outputs": [
    {
     "data": {
      "text/plain": [
       "-5333333333333333.0"
      ]
     },
     "execution_count": 79,
     "metadata": {},
     "output_type": "execute_result"
    }
   ],
   "source": [
    "pyramide.volume"
   ]
  },
  {
   "cell_type": "code",
   "execution_count": 80,
   "id": "eb44ee26-3e51-4372-b140-e04483d4338b",
   "metadata": {},
   "outputs": [],
   "source": [
    "pyramide.__hauteur = 90"
   ]
  },
  {
   "cell_type": "code",
   "execution_count": 81,
   "id": "b24fa3c9-3c2b-47a0-ad7a-b28a8d20cfb5",
   "metadata": {},
   "outputs": [
    {
     "name": "stdout",
     "output_type": "stream",
     "text": [
      "{'_Pyramide__longueur_base': 4, '_Pyramide__hauteur': -1000000000000000, '__hauteur': 90}\n"
     ]
    }
   ],
   "source": [
    "print(pyramide.__dict__)"
   ]
  },
  {
   "cell_type": "code",
   "execution_count": 82,
   "id": "4d309fd7-8499-469f-b424-eafd2011f027",
   "metadata": {},
   "outputs": [
    {
     "data": {
      "text/plain": [
       "-5333333333333333.0"
      ]
     },
     "execution_count": 82,
     "metadata": {},
     "output_type": "execute_result"
    }
   ],
   "source": [
    "pyramide.volume"
   ]
  },
  {
   "cell_type": "code",
   "execution_count": null,
   "id": "e965ec8e-5973-4969-91e1-ed83860ee905",
   "metadata": {},
   "outputs": [],
   "source": []
  }
 ],
 "metadata": {
  "kernelspec": {
   "display_name": "Python 3 (ipykernel)",
   "language": "python",
   "name": "python3"
  },
  "language_info": {
   "codemirror_mode": {
    "name": "ipython",
    "version": 3
   },
   "file_extension": ".py",
   "mimetype": "text/x-python",
   "name": "python",
   "nbconvert_exporter": "python",
   "pygments_lexer": "ipython3",
   "version": "3.12.7"
  }
 },
 "nbformat": 4,
 "nbformat_minor": 5
}
