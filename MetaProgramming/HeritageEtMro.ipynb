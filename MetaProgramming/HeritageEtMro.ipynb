{
 "cells": [
  {
   "cell_type": "code",
   "execution_count": 1,
   "id": "60d22b08-b11f-45c8-93cd-33743080b6b4",
   "metadata": {},
   "outputs": [],
   "source": [
    "dictionnaire = {\"cle1\" : \"valeur1\", \"cle2\" : \"valeur2\", \"cle3\" : \"valeur1\"}"
   ]
  },
  {
   "cell_type": "code",
   "execution_count": 2,
   "id": "697463b1-75c4-4fa6-a5e0-75e7ee6f4d73",
   "metadata": {},
   "outputs": [
    {
     "data": {
      "text/plain": [
       "{'cle1': 'valeur1', 'cle2': 'valeur2', 'cle3': 'valeur1'}"
      ]
     },
     "execution_count": 2,
     "metadata": {},
     "output_type": "execute_result"
    }
   ],
   "source": [
    "dictionnaire\n"
   ]
  },
  {
   "cell_type": "code",
   "execution_count": 3,
   "id": "b7ba9bca-5a38-4ebe-b212-bcf946ab8140",
   "metadata": {},
   "outputs": [],
   "source": [
    "dictionnaire[\"cle2\"] = \"autre_valeur\""
   ]
  },
  {
   "cell_type": "code",
   "execution_count": 4,
   "id": "d1262f6f-e105-4d7e-80a3-97a2f2e90c69",
   "metadata": {},
   "outputs": [
    {
     "data": {
      "text/plain": [
       "{'cle1': 'valeur1', 'cle2': 'autre_valeur', 'cle3': 'valeur1'}"
      ]
     },
     "execution_count": 4,
     "metadata": {},
     "output_type": "execute_result"
    }
   ],
   "source": [
    "dictionnaire\n"
   ]
  },
  {
   "cell_type": "code",
   "execution_count": 5,
   "id": "2b94aa0a-e8a4-4303-a3a2-22df5d0c1d7b",
   "metadata": {},
   "outputs": [],
   "source": [
    "class MyDict(dict):\n",
    "    def __setitem__(self, cle, valeur):\n",
    "        print(\"Je suis passé par setitem\")\n",
    "        super().__setitem__(cle, valeur)\n",
    "mydict = MyDict()"
   ]
  },
  {
   "cell_type": "code",
   "execution_count": 6,
   "id": "e956aa39-00fb-4422-a686-1c7bded9a15a",
   "metadata": {
    "scrolled": true
   },
   "outputs": [
    {
     "name": "stdout",
     "output_type": "stream",
     "text": [
      "Je suis passé par setitem\n"
     ]
    }
   ],
   "source": [
    "mydict[\"cle1\"] = \"valeur1\"\n"
   ]
  },
  {
   "cell_type": "code",
   "execution_count": 7,
   "id": "584d8737-c293-4679-af51-02d703d99689",
   "metadata": {},
   "outputs": [
    {
     "data": {
      "text/plain": [
       "{'cle1': 'valeur1'}"
      ]
     },
     "execution_count": 7,
     "metadata": {},
     "output_type": "execute_result"
    }
   ],
   "source": [
    "mydict"
   ]
  },
  {
   "cell_type": "code",
   "execution_count": 8,
   "id": "7d69737e-2ef3-4785-a9f0-a73134fa5cec",
   "metadata": {},
   "outputs": [],
   "source": [
    "mydict.update({\"cle2\": \"v\", \"cle3\" : \"u\"})"
   ]
  },
  {
   "cell_type": "code",
   "execution_count": 9,
   "id": "68f7c639-aa95-4134-be25-d31691523c5e",
   "metadata": {},
   "outputs": [
    {
     "data": {
      "text/plain": [
       "{'cle1': 'valeur1', 'cle2': 'v', 'cle3': 'u'}"
      ]
     },
     "execution_count": 9,
     "metadata": {},
     "output_type": "execute_result"
    }
   ],
   "source": [
    "mydict"
   ]
  },
  {
   "cell_type": "code",
   "execution_count": 10,
   "id": "efe7c978-5074-4f91-b0ea-3d29bb53cc25",
   "metadata": {},
   "outputs": [
    {
     "name": "stdout",
     "output_type": "stream",
     "text": [
      "Je suis passé par setitem\n"
     ]
    }
   ],
   "source": [
    "from collections import UserDict\n",
    "class MyDictNormal(UserDict):\n",
    "    def __setitem__(self, cle, valeur):\n",
    "        print(\"Je suis passé par setitem\")\n",
    "        super().__setitem__(cle, valeur)\n",
    "mydict = MyDictNormal()\n",
    "mydict[\"cle1\"] = \"valeur1\""
   ]
  },
  {
   "cell_type": "code",
   "execution_count": 11,
   "id": "4ed56ea3-d67f-4bed-a87e-41e083522ca1",
   "metadata": {},
   "outputs": [
    {
     "name": "stdout",
     "output_type": "stream",
     "text": [
      "Je suis passé par setitem\n",
      "Je suis passé par setitem\n"
     ]
    }
   ],
   "source": [
    "mydict.update({\"cle2\": \"v\", \"cle3\" : \"u\"})"
   ]
  },
  {
   "cell_type": "code",
   "execution_count": 16,
   "id": "902a07f4-387c-4cb0-b20a-2a19a8c7fa4c",
   "metadata": {},
   "outputs": [],
   "source": [
    "class DistinctDict(UserDict):\n",
    "    def __setitem__(self, cle, valeur):\n",
    "        if valeur in self.values():\n",
    "            raise ValueError(f\"{valeur} already in the dictionnairy\")\n",
    "        super().__setitem__(cle, valeur)\n",
    "mydict = DistinctDict()\n",
    "mydict[\"cle1\"] = \"valeur1\""
   ]
  },
  {
   "cell_type": "code",
   "execution_count": 17,
   "id": "ac6a23db-debc-46a7-810f-0f345742dd1f",
   "metadata": {},
   "outputs": [],
   "source": [
    "mydict[\"cle2\"] = \"valeuré\""
   ]
  },
  {
   "cell_type": "code",
   "execution_count": 18,
   "id": "5d3e5f05-ae86-41f7-81b1-313c1d2b43c0",
   "metadata": {},
   "outputs": [
    {
     "data": {
      "text/plain": [
       "{'cle1': 'valeur1', 'cle2': 'valeuré'}"
      ]
     },
     "execution_count": 18,
     "metadata": {},
     "output_type": "execute_result"
    }
   ],
   "source": [
    "mydict"
   ]
  },
  {
   "cell_type": "code",
   "execution_count": 19,
   "id": "ec4c729a-457c-423f-ad8c-06ab632e87e6",
   "metadata": {},
   "outputs": [
    {
     "ename": "ValueError",
     "evalue": "valeur1 already in the dictionnairy",
     "output_type": "error",
     "traceback": [
      "\u001b[1;31m---------------------------------------------------------------------------\u001b[0m",
      "\u001b[1;31mValueError\u001b[0m                                Traceback (most recent call last)",
      "Cell \u001b[1;32mIn[19], line 1\u001b[0m\n\u001b[1;32m----> 1\u001b[0m \u001b[43mmydict\u001b[49m\u001b[43m[\u001b[49m\u001b[38;5;124;43m\"\u001b[39;49m\u001b[38;5;124;43mcl\u001b[39;49m\u001b[38;5;124;43m\"\u001b[39;49m\u001b[43m]\u001b[49m \u001b[38;5;241m=\u001b[39m \u001b[38;5;124m\"\u001b[39m\u001b[38;5;124mvaleur1\u001b[39m\u001b[38;5;124m\"\u001b[39m\n",
      "Cell \u001b[1;32mIn[16], line 4\u001b[0m, in \u001b[0;36mDistinctDict.__setitem__\u001b[1;34m(self, cle, valeur)\u001b[0m\n\u001b[0;32m      2\u001b[0m \u001b[38;5;28;01mdef\u001b[39;00m \u001b[38;5;21m__setitem__\u001b[39m(\u001b[38;5;28mself\u001b[39m, cle, valeur):\n\u001b[0;32m      3\u001b[0m     \u001b[38;5;28;01mif\u001b[39;00m valeur \u001b[38;5;129;01min\u001b[39;00m \u001b[38;5;28mself\u001b[39m\u001b[38;5;241m.\u001b[39mvalues():\n\u001b[1;32m----> 4\u001b[0m         \u001b[38;5;28;01mraise\u001b[39;00m \u001b[38;5;167;01mValueError\u001b[39;00m(\u001b[38;5;124mf\u001b[39m\u001b[38;5;124m\"\u001b[39m\u001b[38;5;132;01m{\u001b[39;00mvaleur\u001b[38;5;132;01m}\u001b[39;00m\u001b[38;5;124m already in the dictionnairy\u001b[39m\u001b[38;5;124m\"\u001b[39m)\n\u001b[0;32m      5\u001b[0m     \u001b[38;5;28msuper\u001b[39m()\u001b[38;5;241m.\u001b[39m\u001b[38;5;21m__setitem__\u001b[39m(cle, valeur)\n",
      "\u001b[1;31mValueError\u001b[0m: valeur1 already in the dictionnairy"
     ]
    }
   ],
   "source": [
    "mydict[\"cl\"] = \"valeur1\""
   ]
  },
  {
   "cell_type": "code",
   "execution_count": 21,
   "id": "208c341c-824e-4387-b4f1-879d334411ec",
   "metadata": {},
   "outputs": [
    {
     "name": "stdout",
     "output_type": "stream",
     "text": [
      "A nom de linstance\n"
     ]
    }
   ],
   "source": [
    "#C héride de A il herite des respinsabilite de initialise A\n",
    "class A:\n",
    "    def __init__(self, name):\n",
    "        print(\"A\", end=\" \")\n",
    "        self.name = name\n",
    "        super().__init__()\n",
    "    def print(self):\n",
    "        print(self.name)\n",
    "\n",
    "class B:\n",
    "    def __init__(self):\n",
    "        print(\"B\", end=\" \")\n",
    "        super().__init__()\n",
    "\n",
    "class C(A, B):\n",
    "    def __init__(self):\n",
    "        print(\"C\", end=\" \")\n",
    "        #super().__init__()\n",
    "a = A(\"nom de linstance\")\n",
    "a.print()"
   ]
  },
  {
   "cell_type": "code",
   "execution_count": 22,
   "id": "10af25d8-faab-4e66-a46f-ca4abdb5e83c",
   "metadata": {},
   "outputs": [
    {
     "name": "stdout",
     "output_type": "stream",
     "text": [
      "C "
     ]
    }
   ],
   "source": [
    "c = C()"
   ]
  },
  {
   "cell_type": "code",
   "execution_count": 23,
   "id": "e6fcfc53-93f4-4d43-bcf8-76e43d7f22b6",
   "metadata": {},
   "outputs": [
    {
     "ename": "AttributeError",
     "evalue": "'C' object has no attribute 'name'",
     "output_type": "error",
     "traceback": [
      "\u001b[1;31m---------------------------------------------------------------------------\u001b[0m",
      "\u001b[1;31mAttributeError\u001b[0m                            Traceback (most recent call last)",
      "Cell \u001b[1;32mIn[23], line 1\u001b[0m\n\u001b[1;32m----> 1\u001b[0m \u001b[43mc\u001b[49m\u001b[38;5;241;43m.\u001b[39;49m\u001b[43mprint\u001b[49m\u001b[43m(\u001b[49m\u001b[43m)\u001b[49m\n",
      "Cell \u001b[1;32mIn[21], line 7\u001b[0m, in \u001b[0;36mA.print\u001b[1;34m(self)\u001b[0m\n\u001b[0;32m      6\u001b[0m \u001b[38;5;28;01mdef\u001b[39;00m \u001b[38;5;21mprint\u001b[39m(\u001b[38;5;28mself\u001b[39m):\n\u001b[1;32m----> 7\u001b[0m     \u001b[38;5;28mprint\u001b[39m(\u001b[38;5;28;43mself\u001b[39;49m\u001b[38;5;241;43m.\u001b[39;49m\u001b[43mname\u001b[49m)\n",
      "\u001b[1;31mAttributeError\u001b[0m: 'C' object has no attribute 'name'"
     ]
    }
   ],
   "source": [
    "c.print()"
   ]
  },
  {
   "cell_type": "code",
   "execution_count": 43,
   "id": "cb29d7d3-c2e3-4ced-af94-d73dee60463d",
   "metadata": {},
   "outputs": [
    {
     "name": "stdout",
     "output_type": "stream",
     "text": [
      "C A B (<class '__main__.C'>, <class '__main__.A'>, <class '__main__.B'>, <class 'object'>)\n",
      "Je suis le name de B\n",
      "90\n"
     ]
    }
   ],
   "source": [
    "#\n",
    "class A:\n",
    "    def __init__(self, prix, *args, **kwargs):\n",
    "        print(\"A\", end=\" \")\n",
    "        self.prix = prix\n",
    "        super().__init__(*args, **kwargs)\n",
    "        \n",
    "    def print(self):\n",
    "        print(self.prix)\n",
    "\n",
    "class B:\n",
    "    def __init__(self, name, *args, **kwargs):\n",
    "        print(\"B\", end=\" \")\n",
    "        self.name = name\n",
    "        super().__init__(*args, **kwargs)\n",
    "        \n",
    "    def display(self):\n",
    "        print(self.name)\n",
    "\n",
    "class C(A, B):\n",
    "    def __init__(self, prix, name):\n",
    "        print(\"C\", end=\" \")\n",
    "        super().__init__(prix, name)\n",
    "c = C(90, \"Je suis le name de B\")\n",
    "print(c.__class__.__mro__)\n",
    "c.display()\n",
    "c.print()"
   ]
  },
  {
   "cell_type": "code",
   "execution_count": 47,
   "id": "0848ef56-7eec-4f43-bc0e-5c25a5ba2a40",
   "metadata": {},
   "outputs": [
    {
     "name": "stdout",
     "output_type": "stream",
     "text": [
      "attr public \n",
      " attr protected, juste convention de nommage \n",
      " attr private, l'acces est rendu difficile\n"
     ]
    }
   ],
   "source": [
    "class Visisbilite:\n",
    "    def __init__(self):\n",
    "        self.public = \"attr public\"\n",
    "        self._protected = \"attr protected, juste convention de nommage\"\n",
    "        self.__private = \"attr private, l'acces est rendu difficile\"\n",
    "        \n",
    "    def display(self):\n",
    "        print(self.public, \"\\n\", self._protected, \"\\n\", self.__private)\n",
    "        \n",
    "visibility = Visisbilite()\n",
    "visibility.display()\n",
    "        "
   ]
  },
  {
   "cell_type": "code",
   "execution_count": 48,
   "id": "70eadf60-bfd6-4c08-a228-36fd8775110e",
   "metadata": {},
   "outputs": [
    {
     "name": "stdout",
     "output_type": "stream",
     "text": [
      "attr public\n"
     ]
    }
   ],
   "source": [
    "print(visibility.public)"
   ]
  },
  {
   "cell_type": "code",
   "execution_count": 49,
   "id": "368b3070-eb02-4db9-8e55-f8510cf7934f",
   "metadata": {},
   "outputs": [
    {
     "name": "stdout",
     "output_type": "stream",
     "text": [
      "attr protected, juste convention de nommage\n"
     ]
    }
   ],
   "source": [
    "print(visibility._protected)"
   ]
  },
  {
   "cell_type": "code",
   "execution_count": 50,
   "id": "ca70c93b-b30b-4691-ab05-f928883dacea",
   "metadata": {},
   "outputs": [
    {
     "ename": "AttributeError",
     "evalue": "'Visisbilite' object has no attribute '__private'",
     "output_type": "error",
     "traceback": [
      "\u001b[1;31m---------------------------------------------------------------------------\u001b[0m",
      "\u001b[1;31mAttributeError\u001b[0m                            Traceback (most recent call last)",
      "Cell \u001b[1;32mIn[50], line 1\u001b[0m\n\u001b[1;32m----> 1\u001b[0m \u001b[38;5;28mprint\u001b[39m(\u001b[43mvisibility\u001b[49m\u001b[38;5;241;43m.\u001b[39;49m\u001b[43m__private\u001b[49m)\n",
      "\u001b[1;31mAttributeError\u001b[0m: 'Visisbilite' object has no attribute '__private'"
     ]
    }
   ],
   "source": [
    "print(visibility.__private)"
   ]
  },
  {
   "cell_type": "code",
   "execution_count": 51,
   "id": "43d84b09-659c-4dd4-b8d2-9f6f594d818a",
   "metadata": {},
   "outputs": [
    {
     "name": "stdout",
     "output_type": "stream",
     "text": [
      "{'public': 'attr public', '_protected': 'attr protected, juste convention de nommage', '_Visisbilite__private': \"attr private, l'acces est rendu difficile\"}\n"
     ]
    }
   ],
   "source": [
    "print(visibility.__dict__)"
   ]
  },
  {
   "cell_type": "code",
   "execution_count": 52,
   "id": "3b6f2739-58fe-40bd-8d1b-8f9ffb5600a6",
   "metadata": {},
   "outputs": [
    {
     "name": "stdout",
     "output_type": "stream",
     "text": [
      "attr private, l'acces est rendu difficile\n"
     ]
    }
   ],
   "source": [
    "print(visibility._Visisbilite__private)"
   ]
  },
  {
   "cell_type": "code",
   "execution_count": 53,
   "id": "88a2413b-9d9e-4572-b6ef-f741deeb2cb0",
   "metadata": {},
   "outputs": [
    {
     "name": "stdout",
     "output_type": "stream",
     "text": [
      "5\n"
     ]
    }
   ],
   "source": [
    "class MyClass:\n",
    "    x = 5\n",
    "m = MyClass()\n",
    "\n",
    "print(m.x)"
   ]
  },
  {
   "cell_type": "code",
   "execution_count": 54,
   "id": "65df4127-5f1e-489f-81dc-1e0115a3b59f",
   "metadata": {},
   "outputs": [],
   "source": [
    "m.x = 8"
   ]
  },
  {
   "cell_type": "code",
   "execution_count": 55,
   "id": "0f89b71b-2c8a-4a67-a972-178a207c9b33",
   "metadata": {},
   "outputs": [
    {
     "name": "stdout",
     "output_type": "stream",
     "text": [
      "8\n"
     ]
    }
   ],
   "source": [
    "print(m.x)"
   ]
  },
  {
   "cell_type": "code",
   "execution_count": null,
   "id": "e47591c0-7f27-45ed-b4db-57e335407a68",
   "metadata": {},
   "outputs": [],
   "source": []
  }
 ],
 "metadata": {
  "kernelspec": {
   "display_name": "Python 3 (ipykernel)",
   "language": "python",
   "name": "python3"
  },
  "language_info": {
   "codemirror_mode": {
    "name": "ipython",
    "version": 3
   },
   "file_extension": ".py",
   "mimetype": "text/x-python",
   "name": "python",
   "nbconvert_exporter": "python",
   "pygments_lexer": "ipython3",
   "version": "3.12.7"
  }
 },
 "nbformat": 4,
 "nbformat_minor": 5
}
