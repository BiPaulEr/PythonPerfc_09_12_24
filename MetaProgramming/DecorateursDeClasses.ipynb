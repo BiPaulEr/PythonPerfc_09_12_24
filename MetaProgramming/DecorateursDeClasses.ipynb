{
 "cells": [
  {
   "cell_type": "code",
   "execution_count": 6,
   "id": "7f9886fd-e89d-41ef-9f25-2341f5e892a2",
   "metadata": {},
   "outputs": [
    {
     "name": "stdout",
     "output_type": "stream",
     "text": [
      "DEMO\n",
      "OUAH\n"
     ]
    },
    {
     "data": {
      "text/plain": [
       "'OUAH 2'"
      ]
     },
     "execution_count": 6,
     "metadata": {},
     "output_type": "execute_result"
    }
   ],
   "source": [
    "def decorateur_de_classe(cls):\n",
    "    print(cls.demonstration)\n",
    "    class WrapperClasse(cls):\n",
    "        attribut = \"OUAH 2\"\n",
    "        def methode_ajouter_par_le_decorateur_de_classe(self):\n",
    "            print(\"OUAH\")\n",
    "    return WrapperClasse\n",
    "\n",
    "\n",
    "@decorateur_de_classe\n",
    "class MyClass:\n",
    "    demonstration = \"DEMO\"\n",
    "    pass\n",
    "\n",
    "obj = MyClass()\n",
    "obj.methode_ajouter_par_le_decorateur_de_classe()\n",
    "obj.attribut"
   ]
  },
  {
   "cell_type": "code",
   "execution_count": null,
   "id": "f3e15887-0c6d-41ac-9464-c742874a8129",
   "metadata": {},
   "outputs": [],
   "source": []
  }
 ],
 "metadata": {
  "kernelspec": {
   "display_name": "Python 3 (ipykernel)",
   "language": "python",
   "name": "python3"
  },
  "language_info": {
   "codemirror_mode": {
    "name": "ipython",
    "version": 3
   },
   "file_extension": ".py",
   "mimetype": "text/x-python",
   "name": "python",
   "nbconvert_exporter": "python",
   "pygments_lexer": "ipython3",
   "version": "3.12.7"
  }
 },
 "nbformat": 4,
 "nbformat_minor": 5
}
