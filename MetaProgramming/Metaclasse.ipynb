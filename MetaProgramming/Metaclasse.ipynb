{
 "cells": [
  {
   "cell_type": "code",
   "execution_count": 10,
   "id": "76cecf30-6bf7-4fe7-979e-a3cd63ed788d",
   "metadata": {},
   "outputs": [
    {
     "name": "stdout",
     "output_type": "stream",
     "text": [
      "__new__ called\n",
      "<class '__main__.MyClass'>\n",
      "__new__, instance  <__main__.MyClass object at 0x000002227E24CEF0>\n",
      "__init__ called\n",
      "<__main__.MyClass object at 0x000002227E24CEF0>\n"
     ]
    }
   ],
   "source": [
    "class MyClass:\n",
    "    def __new__(cls, *args, **kwargs):\n",
    "        print(\"__new__ called\")\n",
    "        print(cls)\n",
    "        instance = super().__new__(cls)\n",
    "        print(\"__new__, instance \", instance)\n",
    "        return instance\n",
    "                \n",
    "    def __init__(self, variable):\n",
    "        print(\"__init__ called\")\n",
    "        print(self)\n",
    "        self.variable = variable\n",
    "        \n",
    "myclass1 = MyClass(\"mcylass1\")\n",
    "#myclass2 = MyClass(\"mcylass2\")\n",
    "        "
   ]
  },
  {
   "cell_type": "code",
   "execution_count": 12,
   "id": "b385fb59-5de5-4fff-9ba6-52fdb00a5e6f",
   "metadata": {},
   "outputs": [
    {
     "name": "stdout",
     "output_type": "stream",
     "text": [
      "__new__ called\n",
      "<class '__main__.MyClassInstanciatorCouteur'>\n",
      "__new__, instance  <__main__.MyClassInstanciatorCouteur object at 0x000002227E24FFB0>\n",
      "__init__ called\n",
      "<__main__.MyClassInstanciatorCouteur object at 0x000002227E24FFB0>\n",
      "__new__ called\n",
      "<class '__main__.MyClassInstanciatorCouteur'>\n",
      "__new__, instance  <__main__.MyClassInstanciatorCouteur object at 0x000002227E24CEF0>\n",
      "__init__ called\n",
      "<__main__.MyClassInstanciatorCouteur object at 0x000002227E24CEF0>\n",
      "__new__ called\n",
      "<class '__main__.MyClassInstanciatorCouteur'>\n",
      "__new__, instance  <__main__.MyClassInstanciatorCouteur object at 0x000002227E24E000>\n",
      "__init__ called\n",
      "<__main__.MyClassInstanciatorCouteur object at 0x000002227E24E000>\n"
     ]
    }
   ],
   "source": [
    "class MyClassInstanciatorCouteur:\n",
    "    nombre_instance_creer = 0\n",
    "    def __new__(cls, *args, **kwargs):\n",
    "        print(\"__new__ called\")\n",
    "        print(cls)\n",
    "        instance = super().__new__(cls)\n",
    "        cls.nombre_instance_creer += 1\n",
    "        print(\"__new__, instance \", instance)\n",
    "        return instance\n",
    "                \n",
    "    def __init__(self, variable):\n",
    "        print(\"__init__ called\")\n",
    "        print(self)\n",
    "        self.variable = variable\n",
    "        \n",
    "myclass1 = MyClassInstanciatorCouteur(\"mcylass1\")\n",
    "myclass2 = MyClassInstanciatorCouteur(\"mcylass2\")\n",
    "myclass3 = MyClassInstanciatorCouteur(\"mcylass3\")"
   ]
  },
  {
   "cell_type": "code",
   "execution_count": 13,
   "id": "2ef713a9-ca33-471a-9c6c-27970ec882de",
   "metadata": {},
   "outputs": [
    {
     "data": {
      "text/plain": [
       "3"
      ]
     },
     "execution_count": 13,
     "metadata": {},
     "output_type": "execute_result"
    }
   ],
   "source": [
    "MyClassInstanciatorCouteur.nombre_instance_creer"
   ]
  },
  {
   "cell_type": "code",
   "execution_count": 18,
   "id": "eddbdafd-19d0-4b50-85ea-789201002358",
   "metadata": {},
   "outputs": [
    {
     "name": "stdout",
     "output_type": "stream",
     "text": [
      "Instance created\n",
      "Instance already in memory\n",
      "Instance already in memory\n"
     ]
    }
   ],
   "source": [
    "class Singleton:\n",
    "    instance_ref = None\n",
    "    def __new__(cls, *args, **kwargs):\n",
    "        if cls.instance_ref is None:\n",
    "            print(\"Instance created\")\n",
    "            cls.instance_ref = super().__new__(cls)\n",
    "        else:\n",
    "            print(\"Instance already in memory\")\n",
    "        return cls.instance_ref\n",
    "                \n",
    "    def __init__(self, variable):\n",
    "        self.variable = variable\n",
    "        \n",
    "myclass1 = Singleton(\"mcylass1\")\n",
    "myclass2 = Singleton(\"mcylass2\")\n",
    "myclass3 = Singleton(\"mcylass3\")"
   ]
  },
  {
   "cell_type": "code",
   "execution_count": 16,
   "id": "df467460-f86b-4feb-b38e-931e5bad82f6",
   "metadata": {},
   "outputs": [
    {
     "data": {
      "text/plain": [
       "True"
      ]
     },
     "execution_count": 16,
     "metadata": {},
     "output_type": "execute_result"
    }
   ],
   "source": [
    "myclass1 == myclass3"
   ]
  },
  {
   "cell_type": "code",
   "execution_count": null,
   "id": "66a3afdd-c653-492f-9a84-c6d5c1350920",
   "metadata": {},
   "outputs": [],
   "source": []
  }
 ],
 "metadata": {
  "kernelspec": {
   "display_name": "Python 3 (ipykernel)",
   "language": "python",
   "name": "python3"
  },
  "language_info": {
   "codemirror_mode": {
    "name": "ipython",
    "version": 3
   },
   "file_extension": ".py",
   "mimetype": "text/x-python",
   "name": "python",
   "nbconvert_exporter": "python",
   "pygments_lexer": "ipython3",
   "version": "3.12.7"
  }
 },
 "nbformat": 4,
 "nbformat_minor": 5
}
