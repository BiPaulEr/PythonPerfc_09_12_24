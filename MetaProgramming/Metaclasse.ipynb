{
 "cells": [
  {
   "cell_type": "code",
   "execution_count": 10,
   "id": "76cecf30-6bf7-4fe7-979e-a3cd63ed788d",
   "metadata": {},
   "outputs": [
    {
     "name": "stdout",
     "output_type": "stream",
     "text": [
      "__new__ called\n",
      "<class '__main__.MyClass'>\n",
      "__new__, instance  <__main__.MyClass object at 0x000002227E24CEF0>\n",
      "__init__ called\n",
      "<__main__.MyClass object at 0x000002227E24CEF0>\n"
     ]
    }
   ],
   "source": [
    "class MyClass:\n",
    "    def __new__(cls, *args, **kwargs):\n",
    "        print(\"__new__ called\")\n",
    "        print(cls)\n",
    "        instance = super().__new__(cls)\n",
    "        print(\"__new__, instance \", instance)\n",
    "        return instance\n",
    "                \n",
    "    def __init__(self, variable):\n",
    "        print(\"__init__ called\")\n",
    "        print(self)\n",
    "        self.variable = variable\n",
    "        \n",
    "myclass1 = MyClass(\"mcylass1\")\n",
    "#myclass2 = MyClass(\"mcylass2\")\n",
    "        "
   ]
  },
  {
   "cell_type": "code",
   "execution_count": 12,
   "id": "b385fb59-5de5-4fff-9ba6-52fdb00a5e6f",
   "metadata": {},
   "outputs": [
    {
     "name": "stdout",
     "output_type": "stream",
     "text": [
      "__new__ called\n",
      "<class '__main__.MyClassInstanciatorCouteur'>\n",
      "__new__, instance  <__main__.MyClassInstanciatorCouteur object at 0x000002227E24FFB0>\n",
      "__init__ called\n",
      "<__main__.MyClassInstanciatorCouteur object at 0x000002227E24FFB0>\n",
      "__new__ called\n",
      "<class '__main__.MyClassInstanciatorCouteur'>\n",
      "__new__, instance  <__main__.MyClassInstanciatorCouteur object at 0x000002227E24CEF0>\n",
      "__init__ called\n",
      "<__main__.MyClassInstanciatorCouteur object at 0x000002227E24CEF0>\n",
      "__new__ called\n",
      "<class '__main__.MyClassInstanciatorCouteur'>\n",
      "__new__, instance  <__main__.MyClassInstanciatorCouteur object at 0x000002227E24E000>\n",
      "__init__ called\n",
      "<__main__.MyClassInstanciatorCouteur object at 0x000002227E24E000>\n"
     ]
    }
   ],
   "source": [
    "class MyClassInstanciatorCouteur:\n",
    "    nombre_instance_creer = 0\n",
    "    def __new__(cls, *args, **kwargs):\n",
    "        print(\"__new__ called\")\n",
    "        print(cls)\n",
    "        instance = super().__new__(cls)\n",
    "        cls.nombre_instance_creer += 1\n",
    "        print(\"__new__, instance \", instance)\n",
    "        return instance\n",
    "                \n",
    "    def __init__(self, variable):\n",
    "        print(\"__init__ called\")\n",
    "        print(self)\n",
    "        self.variable = variable\n",
    "        \n",
    "myclass1 = MyClassInstanciatorCouteur(\"mcylass1\")\n",
    "myclass2 = MyClassInstanciatorCouteur(\"mcylass2\")\n",
    "myclass3 = MyClassInstanciatorCouteur(\"mcylass3\")"
   ]
  },
  {
   "cell_type": "code",
   "execution_count": 13,
   "id": "2ef713a9-ca33-471a-9c6c-27970ec882de",
   "metadata": {},
   "outputs": [
    {
     "data": {
      "text/plain": [
       "3"
      ]
     },
     "execution_count": 13,
     "metadata": {},
     "output_type": "execute_result"
    }
   ],
   "source": [
    "MyClassInstanciatorCouteur.nombre_instance_creer"
   ]
  },
  {
   "cell_type": "code",
   "execution_count": 18,
   "id": "eddbdafd-19d0-4b50-85ea-789201002358",
   "metadata": {},
   "outputs": [
    {
     "name": "stdout",
     "output_type": "stream",
     "text": [
      "Instance created\n",
      "Instance already in memory\n",
      "Instance already in memory\n"
     ]
    }
   ],
   "source": [
    "class Singleton:\n",
    "    instance_ref = None\n",
    "    def __new__(cls, *args, **kwargs):\n",
    "        if cls.instance_ref is None:\n",
    "            print(\"Instance created\")\n",
    "            cls.instance_ref = super().__new__(cls)\n",
    "        else:\n",
    "            print(\"Instance already in memory\")\n",
    "        return cls.instance_ref\n",
    "                \n",
    "    def __init__(self, variable):\n",
    "        self.variable = variable\n",
    "        \n",
    "myclass1 = Singleton(\"mcylass1\")\n",
    "myclass2 = Singleton(\"mcylass2\")\n",
    "myclass3 = Singleton(\"mcylass3\")"
   ]
  },
  {
   "cell_type": "code",
   "execution_count": 16,
   "id": "df467460-f86b-4feb-b38e-931e5bad82f6",
   "metadata": {},
   "outputs": [
    {
     "data": {
      "text/plain": [
       "True"
      ]
     },
     "execution_count": 16,
     "metadata": {},
     "output_type": "execute_result"
    }
   ],
   "source": [
    "myclass1 == myclass3"
   ]
  },
  {
   "cell_type": "code",
   "execution_count": 24,
   "id": "66a3afdd-c653-492f-9a84-c6d5c1350920",
   "metadata": {},
   "outputs": [
    {
     "name": "stdout",
     "output_type": "stream",
     "text": [
      "<class '__main__.MyClass'>\n",
      "<class 'type'>\n",
      "{'__module__': '__main__', 'method': <function MyClass.method at 0x000002227E6D5760>, '__dict__': <attribute '__dict__' of 'MyClass' objects>, '__weakref__': <attribute '__weakref__' of 'MyClass' objects>, '__doc__': None}\n"
     ]
    }
   ],
   "source": [
    "#Metaclass\n",
    "class MyClass(object):\n",
    "    def method(self):\n",
    "        print(\"OK\")\n",
    "print(MyClass)\n",
    "print(type(MyClass))\n",
    "print(MyClass.__dict__)"
   ]
  },
  {
   "cell_type": "code",
   "execution_count": 25,
   "id": "c7d58ecf-770f-4ae4-8d60-d79c089dec70",
   "metadata": {},
   "outputs": [
    {
     "name": "stdout",
     "output_type": "stream",
     "text": [
      "<class '__main__.MyClass2'>\n",
      "<class 'type'>\n",
      "{'method': <function method at 0x000002227E15D800>, '__module__': '__main__', '__dict__': <attribute '__dict__' of 'MyClass2' objects>, '__weakref__': <attribute '__weakref__' of 'MyClass2' objects>, '__doc__': None}\n"
     ]
    }
   ],
   "source": [
    "def method(self):\n",
    "    print(\"OK\")\n",
    "MyClass2 = type(\"MyClass2\", (object,), {\"method\" : method})\n",
    "print(MyClass2)\n",
    "print(type(MyClass2))\n",
    "print(MyClass2.__dict__)"
   ]
  },
  {
   "cell_type": "code",
   "execution_count": 50,
   "id": "accf72dd-24bb-4411-bc1f-985b2d9ad0fe",
   "metadata": {},
   "outputs": [
    {
     "name": "stdout",
     "output_type": "stream",
     "text": [
      "META : __prepare__ is called\n",
      "META : __new__ is called\n",
      "META : __init__ is called\n",
      "META : __call__ is called\n"
     ]
    }
   ],
   "source": [
    "class MetaClass(type):\n",
    "    @classmethod\n",
    "    def __prepare__(metaclass, name, bases, **kwargs):\n",
    "        print(\"META : __prepare__ is called\")\n",
    "        #print(metaclass, name, bases)\n",
    "        namespace = super().__prepare__(name, bases, **kwargs)\n",
    "        return namespace\n",
    "        \n",
    "    def __new__(metaclass, name, bases, namespace, **kwargs):\n",
    "        print(\"META : __new__ is called\")\n",
    "        #print(metaclass, name, bases, namespace)\n",
    "        return super().__new__(metaclass, name, bases, namespace)\n",
    "        \n",
    "    def __init__(cls,  name, bases, namespace, **kwargs):\n",
    "        print(\"META : __init__ is called\")\n",
    "        #print(cls,  name, bases, namespace)\n",
    "        super().__init__(name, bases, namespace)\n",
    "                 \n",
    "    def __call__(cls, *args, **kwargs):\n",
    "        print(\"META : __call__ is called\")\n",
    "        #print(cls, *args, **kwargs)\n",
    "        return super().__call__(*args, **kwargs)\n",
    "\n",
    "class MyClass(metaclass = MetaClass):\n",
    "    x = 4\n",
    "    pass\n",
    "    \n",
    "m = MyClass()"
   ]
  },
  {
   "cell_type": "code",
   "execution_count": 51,
   "id": "42253527-cdba-4b64-9702-165a8ecea488",
   "metadata": {},
   "outputs": [
    {
     "name": "stdout",
     "output_type": "stream",
     "text": [
      "META : __prepare__ is called\n",
      "META : __new__ is called\n",
      "META : __init__ is called\n"
     ]
    }
   ],
   "source": [
    "class MyClass(metaclass = MetaClass):\n",
    "    def __new__(cls, *args, **kwargs):\n",
    "        print(\"__new__ called\")\n",
    "        instance = super().__new__(cls)\n",
    "        return instance\n",
    "                \n",
    "    def __init__(self, variable):\n",
    "        print(\"__init__ called\")\n",
    "        self.variable = variable"
   ]
  },
  {
   "cell_type": "code",
   "execution_count": 53,
   "id": "a4f0166e-a4ce-4229-ba5b-9daa72ca005b",
   "metadata": {
    "scrolled": true
   },
   "outputs": [
    {
     "name": "stdout",
     "output_type": "stream",
     "text": [
      "META : __call__ is called\n",
      "__new__ called\n",
      "__init__ called\n"
     ]
    }
   ],
   "source": [
    "m = MyClass(\"VALEUR\")"
   ]
  },
  {
   "cell_type": "code",
   "execution_count": 56,
   "id": "33faef8d-b613-41df-a2f1-8d2acf648d4b",
   "metadata": {},
   "outputs": [
    {
     "name": "stdout",
     "output_type": "stream",
     "text": [
      "{'Feature_Plugin': <class '__main__.Feature_Plugin'>, 'Feature2_Plugin': <class '__main__.Feature2_Plugin'>}\n"
     ]
    }
   ],
   "source": [
    "class PluginMeta(type):\n",
    "    plugins = {}\n",
    "    def __new__(mcs, name, bases, namespace):\n",
    "        cls = super().__new__(mcs, name, bases, namespace)\n",
    "        if name != \"PluginBase\":\n",
    "            mcs.plugins[name] = cls\n",
    "        return cls\n",
    "\n",
    "class PluginBase(metaclass = PluginMeta):\n",
    "    pass\n",
    "\n",
    "class Feature_Plugin(PluginBase):\n",
    "    pass\n",
    "    \n",
    "class Feature2_Plugin(PluginBase):\n",
    "    pass \n",
    "\n",
    "print(PluginMeta.plugins)"
   ]
  },
  {
   "cell_type": "code",
   "execution_count": 57,
   "id": "556570b1-f603-44af-beb7-c754c7f0de6f",
   "metadata": {},
   "outputs": [],
   "source": [
    "class Feature_AjouterParAutrui(PluginBase):\n",
    "    pass"
   ]
  },
  {
   "cell_type": "code",
   "execution_count": 58,
   "id": "d598803a-cb8f-45fe-888b-6fa52f9bb961",
   "metadata": {},
   "outputs": [
    {
     "name": "stdout",
     "output_type": "stream",
     "text": [
      "{'Feature_Plugin': <class '__main__.Feature_Plugin'>, 'Feature2_Plugin': <class '__main__.Feature2_Plugin'>, 'Feature_AjouterParAutrui': <class '__main__.Feature_AjouterParAutrui'>}\n"
     ]
    }
   ],
   "source": [
    "print(PluginMeta.plugins)"
   ]
  },
  {
   "cell_type": "code",
   "execution_count": 84,
   "id": "ef002c34-3e59-4c31-8973-3bc613eef2ec",
   "metadata": {},
   "outputs": [],
   "source": [
    "#il faut implementer la fonction execute pour que ca marche\n",
    "\n",
    "class InterfaceValidator(type):\n",
    "    def __new__(mcs, name, bases, namespace):\n",
    "        cls = super().__new__(mcs, name, bases, namespace)\n",
    "        if not (\"execute\" in namespace and callable(namespace[\"execute\"])):\n",
    "            raise TypeError(\"execute is not in namespace\")\n",
    "        return cls"
   ]
  },
  {
   "cell_type": "code",
   "execution_count": 85,
   "id": "00301e61-04a2-4640-b6fe-1c98ec650567",
   "metadata": {},
   "outputs": [
    {
     "ename": "TypeError",
     "evalue": "execute is not in namespace",
     "output_type": "error",
     "traceback": [
      "\u001b[1;31m---------------------------------------------------------------------------\u001b[0m",
      "\u001b[1;31mTypeError\u001b[0m                                 Traceback (most recent call last)",
      "Cell \u001b[1;32mIn[85], line 1\u001b[0m\n\u001b[1;32m----> 1\u001b[0m \u001b[38;5;28;43;01mclass\u001b[39;49;00m\u001b[43m \u001b[49m\u001b[38;5;21;43;01mService\u001b[39;49;00m\u001b[43m(\u001b[49m\u001b[43mmetaclass\u001b[49m\u001b[43m \u001b[49m\u001b[38;5;241;43m=\u001b[39;49m\u001b[43m \u001b[49m\u001b[43mInterfaceValidator\u001b[49m\u001b[43m)\u001b[49m\u001b[43m:\u001b[49m\n\u001b[0;32m      2\u001b[0m \u001b[43m    \u001b[49m\u001b[38;5;28;43;01mpass\u001b[39;49;00m\n",
      "Cell \u001b[1;32mIn[84], line 7\u001b[0m, in \u001b[0;36mInterfaceValidator.__new__\u001b[1;34m(mcs, name, bases, namespace)\u001b[0m\n\u001b[0;32m      5\u001b[0m \u001b[38;5;28mcls\u001b[39m \u001b[38;5;241m=\u001b[39m \u001b[38;5;28msuper\u001b[39m()\u001b[38;5;241m.\u001b[39m\u001b[38;5;21m__new__\u001b[39m(mcs, name, bases, namespace)\n\u001b[0;32m      6\u001b[0m \u001b[38;5;28;01mif\u001b[39;00m \u001b[38;5;129;01mnot\u001b[39;00m (\u001b[38;5;124m\"\u001b[39m\u001b[38;5;124mexecute\u001b[39m\u001b[38;5;124m\"\u001b[39m \u001b[38;5;129;01min\u001b[39;00m namespace \u001b[38;5;129;01mand\u001b[39;00m \u001b[38;5;28mcallable\u001b[39m(namespace[\u001b[38;5;124m\"\u001b[39m\u001b[38;5;124mexecute\u001b[39m\u001b[38;5;124m\"\u001b[39m])):\n\u001b[1;32m----> 7\u001b[0m     \u001b[38;5;28;01mraise\u001b[39;00m \u001b[38;5;167;01mTypeError\u001b[39;00m(\u001b[38;5;124m\"\u001b[39m\u001b[38;5;124mexecute is not in namespace\u001b[39m\u001b[38;5;124m\"\u001b[39m)\n\u001b[0;32m      8\u001b[0m \u001b[38;5;28;01mreturn\u001b[39;00m \u001b[38;5;28mcls\u001b[39m\n",
      "\u001b[1;31mTypeError\u001b[0m: execute is not in namespace"
     ]
    }
   ],
   "source": [
    "class Service(metaclass = InterfaceValidator):\n",
    "    pass"
   ]
  },
  {
   "cell_type": "code",
   "execution_count": 86,
   "id": "5e85d4e9-128a-4f64-bc93-601b382d257c",
   "metadata": {},
   "outputs": [],
   "source": [
    "class ServiceBienFait(metaclass = InterfaceValidator):\n",
    "    def execute():\n",
    "        pass"
   ]
  },
  {
   "cell_type": "code",
   "execution_count": 87,
   "id": "1829f48b-77aa-4b67-8280-df8255dc3c89",
   "metadata": {},
   "outputs": [
    {
     "ename": "TypeError",
     "evalue": "execute is not in namespace",
     "output_type": "error",
     "traceback": [
      "\u001b[1;31m---------------------------------------------------------------------------\u001b[0m",
      "\u001b[1;31mTypeError\u001b[0m                                 Traceback (most recent call last)",
      "Cell \u001b[1;32mIn[87], line 1\u001b[0m\n\u001b[1;32m----> 1\u001b[0m \u001b[38;5;28;43;01mclass\u001b[39;49;00m\u001b[43m \u001b[49m\u001b[38;5;21;43;01mServiceBienFaitAhBon\u001b[39;49;00m\u001b[43m(\u001b[49m\u001b[43mmetaclass\u001b[49m\u001b[43m \u001b[49m\u001b[38;5;241;43m=\u001b[39;49m\u001b[43m \u001b[49m\u001b[43mInterfaceValidator\u001b[49m\u001b[43m)\u001b[49m\u001b[43m:\u001b[49m\n\u001b[0;32m      2\u001b[0m \u001b[43m    \u001b[49m\u001b[43mexecute\u001b[49m\u001b[43m \u001b[49m\u001b[38;5;241;43m=\u001b[39;49m\u001b[43m \u001b[49m\u001b[38;5;241;43m4\u001b[39;49m\n\u001b[0;32m      3\u001b[0m \u001b[38;5;28mprint\u001b[39m(ServiceBienFaitAhBon\u001b[38;5;241m.\u001b[39m\u001b[38;5;18m__dict__\u001b[39m)\n",
      "Cell \u001b[1;32mIn[84], line 7\u001b[0m, in \u001b[0;36mInterfaceValidator.__new__\u001b[1;34m(mcs, name, bases, namespace)\u001b[0m\n\u001b[0;32m      5\u001b[0m \u001b[38;5;28mcls\u001b[39m \u001b[38;5;241m=\u001b[39m \u001b[38;5;28msuper\u001b[39m()\u001b[38;5;241m.\u001b[39m\u001b[38;5;21m__new__\u001b[39m(mcs, name, bases, namespace)\n\u001b[0;32m      6\u001b[0m \u001b[38;5;28;01mif\u001b[39;00m \u001b[38;5;129;01mnot\u001b[39;00m (\u001b[38;5;124m\"\u001b[39m\u001b[38;5;124mexecute\u001b[39m\u001b[38;5;124m\"\u001b[39m \u001b[38;5;129;01min\u001b[39;00m namespace \u001b[38;5;129;01mand\u001b[39;00m \u001b[38;5;28mcallable\u001b[39m(namespace[\u001b[38;5;124m\"\u001b[39m\u001b[38;5;124mexecute\u001b[39m\u001b[38;5;124m\"\u001b[39m])):\n\u001b[1;32m----> 7\u001b[0m     \u001b[38;5;28;01mraise\u001b[39;00m \u001b[38;5;167;01mTypeError\u001b[39;00m(\u001b[38;5;124m\"\u001b[39m\u001b[38;5;124mexecute is not in namespace\u001b[39m\u001b[38;5;124m\"\u001b[39m)\n\u001b[0;32m      8\u001b[0m \u001b[38;5;28;01mreturn\u001b[39;00m \u001b[38;5;28mcls\u001b[39m\n",
      "\u001b[1;31mTypeError\u001b[0m: execute is not in namespace"
     ]
    }
   ],
   "source": [
    "class ServiceBienFaitAhBon(metaclass = InterfaceValidator):\n",
    "    execute = 4\n",
    "print(ServiceBienFaitAhBon.__dict__)"
   ]
  },
  {
   "cell_type": "code",
   "execution_count": 92,
   "id": "01f2c952-60be-404c-9c4f-135401a73ea7",
   "metadata": {},
   "outputs": [
    {
     "ename": "TypeError",
     "evalue": "Can't instantiate abstract class Test without an implementation for abstract method 'execute'",
     "output_type": "error",
     "traceback": [
      "\u001b[1;31m---------------------------------------------------------------------------\u001b[0m",
      "\u001b[1;31mTypeError\u001b[0m                                 Traceback (most recent call last)",
      "Cell \u001b[1;32mIn[92], line 10\u001b[0m\n\u001b[0;32m      8\u001b[0m \u001b[38;5;28;01mclass\u001b[39;00m \u001b[38;5;21;01mTest\u001b[39;00m(InterfaceDef):\n\u001b[0;32m      9\u001b[0m     \u001b[38;5;28;01mpass\u001b[39;00m\n\u001b[1;32m---> 10\u001b[0m t \u001b[38;5;241m=\u001b[39m\u001b[43mTest\u001b[49m\u001b[43m(\u001b[49m\u001b[43m)\u001b[49m\n",
      "\u001b[1;31mTypeError\u001b[0m: Can't instantiate abstract class Test without an implementation for abstract method 'execute'"
     ]
    }
   ],
   "source": [
    "from abc import abstractmethod, ABC\n",
    "\n",
    "class InterfaceDef(ABC):\n",
    "    @abstractmethod\n",
    "    def execute():\n",
    "        pass\n",
    "\n",
    "class Test(InterfaceDef):\n",
    "    pass\n",
    "t = Test()"
   ]
  },
  {
   "cell_type": "code",
   "execution_count": null,
   "id": "b0963a2b-eb07-4d33-bdef-aa48bd13d630",
   "metadata": {},
   "outputs": [],
   "source": [
    "python .py"
   ]
  }
 ],
 "metadata": {
  "kernelspec": {
   "display_name": "Python 3 (ipykernel)",
   "language": "python",
   "name": "python3"
  },
  "language_info": {
   "codemirror_mode": {
    "name": "ipython",
    "version": 3
   },
   "file_extension": ".py",
   "mimetype": "text/x-python",
   "name": "python",
   "nbconvert_exporter": "python",
   "pygments_lexer": "ipython3",
   "version": "3.12.7"
  }
 },
 "nbformat": 4,
 "nbformat_minor": 5
}
